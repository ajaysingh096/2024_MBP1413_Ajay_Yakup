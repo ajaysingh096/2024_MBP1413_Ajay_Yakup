{
  "nbformat": 4,
  "nbformat_minor": 0,
  "metadata": {
    "colab": {
      "provenance": []
    },
    "kernelspec": {
      "name": "python3",
      "display_name": "Python 3"
    },
    "language_info": {
      "name": "python"
    }
  },
  "cells": [
    {
      "cell_type": "code",
      "execution_count": null,
      "metadata": {
        "id": "Y5er0v-i_LNR"
      },
      "outputs": [],
      "source": []
    },
    {
      "cell_type": "code",
      "source": [
        "#!pip install monai\n",
        "!python -c \"import monai\" || pip install -q \"monai-weekly[gdown, nibabel, tqdm, ignite]\"\n",
        "!python -c \"import matplotlib\" || pip install -q matplotlib\n",
        "%matplotlib inline"
      ],
      "metadata": {
        "id": "oRsIoIN8_yiJ"
      },
      "execution_count": null,
      "outputs": []
    },
    {
      "cell_type": "code",
      "source": [
        "\n",
        "from google.colab import drive\n",
        "drive.mount('/content/drive')"
      ],
      "metadata": {
        "colab": {
          "base_uri": "https://localhost:8080/"
        },
        "id": "ah9RHHnCD9ky",
        "outputId": "ae124466-44e8-4ab8-e64e-05aa84203b67"
      },
      "execution_count": null,
      "outputs": [
        {
          "output_type": "stream",
          "name": "stdout",
          "text": [
            "Mounted at /content/drive\n"
          ]
        }
      ]
    },
    {
      "cell_type": "code",
      "source": [
        "#Import monai stuff and other necessary libraries\n",
        "from monai.utils import first, set_determinism\n",
        "from monai.transforms import (\n",
        "    AsDiscrete,\n",
        "    AsDiscreted,\n",
        "    EnsureChannelFirstd,\n",
        "    Compose,\n",
        "    CropForegroundd,\n",
        "    LoadImaged,\n",
        "    Orientationd,\n",
        "    RandCropByPosNegLabeld,\n",
        "    SaveImaged,\n",
        "    ScaleIntensityRanged,\n",
        "    Spacingd,\n",
        "    Invertd,\n",
        "    RepeatChannel,\n",
        "    DivisiblePad,\n",
        "    RandRotate90d\n",
        ")\n",
        "from monai.handlers.utils import from_engine\n",
        "from monai.networks.nets import UNet\n",
        "from monai.networks.layers import Norm\n",
        "from monai.metrics import DiceMetric\n",
        "from monai.losses import DiceLoss\n",
        "from monai.inferers import sliding_window_inference\n",
        "from monai.data import CacheDataset, DataLoader, Dataset, decollate_batch\n",
        "from monai.config import print_config\n",
        "from monai.apps import download_and_extract\n",
        "import torch\n",
        "import matplotlib.pyplot as plt\n",
        "import tempfile\n",
        "import shutil\n",
        "import os\n",
        "import glob\n",
        "\n",
        "print_config()"
      ],
      "metadata": {
        "id": "7mBZTX1XAMck"
      },
      "execution_count": null,
      "outputs": []
    },
    {
      "cell_type": "code",
      "source": [
        "#create a directory\n",
        "directory = os.environ.get(\"MONAI_DATA_DIRECTORY\")\n",
        "root_dir = tempfile.mkdtemp() if directory is None else directory\n",
        "print(root_dir)"
      ],
      "metadata": {
        "id": "-tdQwCdkALv8",
        "colab": {
          "base_uri": "https://localhost:8080/"
        },
        "outputId": "16cb8752-3e88-4832-ca0b-4f847c7b2cfd"
      },
      "execution_count": null,
      "outputs": [
        {
          "output_type": "stream",
          "name": "stdout",
          "text": [
            "/tmp/tmpu42vmr33\n"
          ]
        }
      ]
    },
    {
      "cell_type": "markdown",
      "source": [
        "Code below moves the data file in zip on google drive to temporary director. Note: you should keep the data in the same location\\\n",
        "Note: temporary files are deleted everytime you start a new session"
      ],
      "metadata": {
        "id": "0QMc--P-F9vf"
      }
    },
    {
      "cell_type": "code",
      "source": [
        "google_drive_file_path = '/content/drive/MyDrive/Colab Notebooks/data-science-bowl-2018.zip'\n",
        "destination_dir = root_dir\n",
        "shutil.copy(google_drive_file_path, destination_dir)\n",
        "\n"
      ],
      "metadata": {
        "colab": {
          "base_uri": "https://localhost:8080/",
          "height": 35
        },
        "id": "Xky1BEz9Fpu5",
        "outputId": "d22f4e00-dd48-4bef-a52b-9c90b3d5ccbb"
      },
      "execution_count": null,
      "outputs": [
        {
          "output_type": "execute_result",
          "data": {
            "text/plain": [
              "'/tmp/tmpu42vmr33/data-science-bowl-2018.zip'"
            ],
            "application/vnd.google.colaboratory.intrinsic+json": {
              "type": "string"
            }
          },
          "metadata": {},
          "execution_count": 5
        }
      ]
    },
    {
      "cell_type": "code",
      "source": [],
      "metadata": {
        "id": "hfiJOH14HmLM"
      },
      "execution_count": null,
      "outputs": []
    },
    {
      "cell_type": "code",
      "source": [
        "compressed_file = os.path.join(root_dir, \"data-science-bowl-2018.zip\")\n",
        "data_dir = os.path.join(root_dir, \"data-science-bowl-2018\")"
      ],
      "metadata": {
        "id": "ct8gRmfXGSCA"
      },
      "execution_count": null,
      "outputs": []
    },
    {
      "cell_type": "code",
      "source": [
        "compressed_file"
      ],
      "metadata": {
        "colab": {
          "base_uri": "https://localhost:8080/",
          "height": 35
        },
        "id": "-jEGxkNgHzLv",
        "outputId": "f56dc979-19e1-42f9-e794-96355ec4c996"
      },
      "execution_count": null,
      "outputs": [
        {
          "output_type": "execute_result",
          "data": {
            "text/plain": [
              "'/tmp/tmpnirziv6r/data-science-bowl-2018.zip'"
            ],
            "application/vnd.google.colaboratory.intrinsic+json": {
              "type": "string"
            }
          },
          "metadata": {},
          "execution_count": 7
        }
      ]
    },
    {
      "cell_type": "markdown",
      "source": [
        "Unzip all the files returns pathname\n"
      ],
      "metadata": {
        "id": "BeRXs4GcNwFx"
      }
    },
    {
      "cell_type": "code",
      "source": [
        "import os\n",
        "import zipfile\n",
        "import shutil\n",
        "\n",
        "def extract_zip(input_zip, output_folder):\n",
        "    with zipfile.ZipFile(input_zip, 'r') as zip_ref:\n",
        "        zip_ref.extractall(output_folder)\n",
        "\n",
        "def extract_nested_zips(input_folder, output_folder_base):\n",
        "    extracted_folders = {}\n",
        "    for root, dirs, files in os.walk(input_folder):\n",
        "        for file in files:\n",
        "            if file.endswith('.zip'):\n",
        "                input_zip = os.path.join(root, file)\n",
        "                folder_name = os.path.splitext(file)[0]\n",
        "                output_folder = os.path.join(output_folder_base, folder_name)\n",
        "                if not os.path.exists(output_folder):\n",
        "                    os.makedirs(output_folder)\n",
        "                extract_zip(input_zip, output_folder)\n",
        "                extracted_folders[folder_name] = output_folder\n",
        "    return extracted_folders\n",
        "\n",
        "def main():\n",
        "    # Paths\n",
        "    main_zip_path = compressed_file # Replace this with the path to your main zip folder\n",
        "    output_folder_base = data_dir   # Replace this with the base path where you want to extract\n",
        "\n",
        "    # Extract contents of main zip\n",
        "    extract_zip(main_zip_path, output_folder_base)\n",
        "\n",
        "    # Extract nested zip folders\n",
        "    extracted_folders = extract_nested_zips(output_folder_base, output_folder_base)\n",
        "\n",
        "    # Return the dictionary containing folder names and their paths\n",
        "    return extracted_folders\n",
        "\n",
        "# Call main function and store the result in a variable\n",
        "extracted_folders_dict = main()\n",
        "\n",
        "# Check if extracted_folders_dict is None\n",
        "if extracted_folders_dict is not None:\n",
        "    # Print the dictionary\n",
        "    print(\"Extracted Folders:\")\n",
        "    for folder_name, folder_path in extracted_folders_dict.items():\n",
        "        print(f\"{folder_name}: {folder_path}\")\n",
        "else:\n",
        "    print(\"Error: No folders extracted.\")\n"
      ],
      "metadata": {
        "colab": {
          "base_uri": "https://localhost:8080/"
        },
        "id": "eZRvXXENPLgi",
        "outputId": "bc60eccb-e73a-40dc-e39d-c06b4b4ce0b2"
      },
      "execution_count": null,
      "outputs": [
        {
          "output_type": "stream",
          "name": "stdout",
          "text": [
            "Extracted Folders:\n",
            "stage1_test: /tmp/tmpu42vmr33/data-science-bowl-2018/stage1_test\n",
            "stage1_train: /tmp/tmpu42vmr33/data-science-bowl-2018/stage1_train\n",
            "stage1_train_labels.csv: /tmp/tmpu42vmr33/data-science-bowl-2018/stage1_train_labels.csv\n"
          ]
        }
      ]
    },
    {
      "cell_type": "code",
      "source": [
        "# very rough code\n",
        "#assign folder paths to folder names as variable\n",
        "stage1_train_labels_csv = extracted_folders_dict.get(\"stage1_train_labels.csv\")\n",
        "stage1_train = extracted_folders_dict.get(\"stage1_train\")\n",
        "stage1_sample_submission_csv = extracted_folders_dict.get(\"stage1_sample_submission.csv\")\n",
        "stage2_sample_submission_final_csv = extracted_folders_dict.get(\"stage2_sample_submission_final.csv\")\n",
        "stage1_solution_csv = extracted_folders_dict.get(\"stage1_solution.csv\")\n",
        "stage2_test_final = extracted_folders_dict.get(\"stage2_test_final\")\n",
        "stage1_test = extracted_folders_dict.get(\"stage1_test2\")\n"
      ],
      "metadata": {
        "id": "_4WX3xiTPjdE"
      },
      "execution_count": null,
      "outputs": []
    },
    {
      "cell_type": "code",
      "source": [
        "TRAIN_PATH=stage1_train\n",
        "TEST_PATH=stage1_test\n",
        "train_ids=next(os.walk(TRAIN_PATH))[1]  # gets file names within in the directory train path\n",
        "#test_ids=next(os.walk(TEST_PATH))[1]\n",
        "\n",
        "IMG_HEIGHT=512\n",
        "IMG_WIDTH=512\n",
        "IMG_CHANNELS=3"
      ],
      "metadata": {
        "id": "ifxKatpTQsYj"
      },
      "execution_count": null,
      "outputs": []
    },
    {
      "cell_type": "code",
      "source": [
        "#!!! NOTE this part of code has been adapted from https://www.kaggle.com/code/keegil/keras-u-net-starter-lb-0-277 until the comment below\n",
        "\n",
        "import numpy as np\n",
        "X_train = np.zeros((len(train_ids), IMG_HEIGHT, IMG_WIDTH, IMG_CHANNELS), dtype=np.uint8)\n",
        "Y_train = np.zeros((len(train_ids), IMG_HEIGHT, IMG_WIDTH, 1), dtype=np.bool_)\n"
      ],
      "metadata": {
        "id": "JImPomyqB7bp"
      },
      "execution_count": null,
      "outputs": []
    },
    {
      "cell_type": "code",
      "source": [
        "from tqdm import tqdm\n",
        "from skimage.io import imread,imshow\n",
        "from skimage.transform import resize\n",
        "print('Resizing training images and masks')\n",
        "for n, id_ in tqdm(enumerate(train_ids), total=len(train_ids)):\n",
        "    path = TRAIN_PATH +'/'+ id_\n",
        "    img = imread(path + '/images/' + id_ + '.png')[:,:,:IMG_CHANNELS]\n",
        "    img = resize(img, (IMG_HEIGHT, IMG_WIDTH), mode='constant', preserve_range=True)\n",
        "    X_train[n] = img  #Fill empty X_train with values from img\n",
        "    mask = np.zeros((IMG_HEIGHT, IMG_WIDTH, 1), dtype=np.bool_)\n",
        "    for mask_file in next(os.walk(path + '/masks/'))[2]:\n",
        "        mask_ = imread(path + '/masks/' + mask_file)\n",
        "        mask_ = np.expand_dims(resize(mask_, (IMG_HEIGHT, IMG_WIDTH), mode='constant',\n",
        "                                      preserve_range=True), axis=-1)\n",
        "        mask = np.maximum(mask, mask_)\n",
        "\n",
        "    Y_train[n] = mask\n",
        "\n",
        "#!! adaptation over\n",
        "Y_train=np.repeat(Y_train,3,axis=-1) # to have 3 channels in label too\n",
        "\n"
      ],
      "metadata": {
        "id": "LIoj79FJCGTZ"
      },
      "execution_count": null,
      "outputs": []
    },
    {
      "cell_type": "code",
      "source": [
        "image_train_data=X_train\n",
        "mask_data_train= Y_train\n"
      ],
      "metadata": {
        "id": "qzE7xHiiICCG"
      },
      "execution_count": null,
      "outputs": []
    },
    {
      "cell_type": "code",
      "source": [
        "#save arrays as image\n",
        "from skimage.io import imsave\n",
        "save_path_image=os.path.join(root_dir,'saved_array_images')\n",
        "save_path_masks=os.path.join(root_dir,'saved_array_masks')\n",
        "save_HE_image=os.path.join(root_dir,'saved_HE_images')\n",
        "save_HE_masks=os.path.join(root_dir,'saved_HE_masks')\n",
        "os.makedirs(save_path_image, exist_ok=True)\n",
        "os.makedirs(save_path_masks, exist_ok=True)\n",
        "os.makedirs(save_HE_image, exist_ok=True)\n",
        "os.makedirs(save_HE_masks, exist_ok=True)\n",
        "import cv2\n",
        "\n",
        "for i, (image, mask) in enumerate(zip(image_train_data, mask_data_train)):\n",
        "  image_path = os.path.join(save_path_image, f\"image_{i}.png\")\n",
        "  mask_path = os.path.join(save_path_masks, f\"mask_{i}.png\")\n",
        "\n",
        "  imsave(image_path, image)\n",
        "\n",
        "# Save the RGB image\n",
        "\n",
        "  imsave(mask_path,mask)\n",
        "\n",
        "\n",
        "\n"
      ],
      "metadata": {
        "id": "7Gf46pYnSpcc"
      },
      "execution_count": null,
      "outputs": []
    },
    {
      "cell_type": "code",
      "source": [
        "from glob import glob\n",
        "train_images = sorted(glob(os.path.join(save_path_image, \"*.png\")))\n",
        "train_labels = sorted(glob(os.path.join(save_path_masks, \"*.png\")))\n"
      ],
      "metadata": {
        "id": "wiom78OoYPdn"
      },
      "execution_count": null,
      "outputs": []
    },
    {
      "cell_type": "code",
      "source": [
        "## set the training and testing dictionaries. 10% is randomly locked away for testing post training.\n",
        "## 30% of remaining for validation/tuning\n",
        "##70 % of remaining for training\n",
        "\n",
        "import random\n",
        "data_dicts = [{\"image\": image_name, \"label\": label_name} for image_name, label_name in zip(train_images, train_labels)]\n",
        "#lock 10% for testing\n",
        "num_samples = int(len(data_dicts) * 0.1)\n",
        "random.seed(45)\n",
        "test_locked= random.sample(data_dicts, num_samples)\n",
        "data_dicts = [item for item in data_dicts if item not in test_locked]\n",
        "\n",
        "\n",
        "num_samples = int(len(data_dicts) * 0.3)\n",
        "val_files=random.sample(data_dicts, num_samples)\n",
        "train_files = [item for item in data_dicts if item not in val_files]\n",
        "\n"
      ],
      "metadata": {
        "id": "YyzEkIlsZe1V"
      },
      "execution_count": null,
      "outputs": []
    },
    {
      "cell_type": "code",
      "source": [
        "print(f\"training data: {train_files}\")\n",
        "print(f\"validating data: {val_files}\")"
      ],
      "metadata": {
        "id": "5O2t_PqfZzQk",
        "colab": {
          "base_uri": "https://localhost:8080/"
        },
        "outputId": "1fb21b03-df5a-4a3b-8c25-a0d3c1ad0d97"
      },
      "execution_count": null,
      "outputs": [
        {
          "output_type": "stream",
          "name": "stdout",
          "text": [
            "training data: [{'image': '/tmp/tmpu42vmr33/saved_array_images/image_0.png', 'label': '/tmp/tmpu42vmr33/saved_array_masks/mask_0.png'}, {'image': '/tmp/tmpu42vmr33/saved_array_images/image_10.png', 'label': '/tmp/tmpu42vmr33/saved_array_masks/mask_10.png'}, {'image': '/tmp/tmpu42vmr33/saved_array_images/image_104.png', 'label': '/tmp/tmpu42vmr33/saved_array_masks/mask_104.png'}, {'image': '/tmp/tmpu42vmr33/saved_array_images/image_105.png', 'label': '/tmp/tmpu42vmr33/saved_array_masks/mask_105.png'}, {'image': '/tmp/tmpu42vmr33/saved_array_images/image_109.png', 'label': '/tmp/tmpu42vmr33/saved_array_masks/mask_109.png'}, {'image': '/tmp/tmpu42vmr33/saved_array_images/image_11.png', 'label': '/tmp/tmpu42vmr33/saved_array_masks/mask_11.png'}, {'image': '/tmp/tmpu42vmr33/saved_array_images/image_110.png', 'label': '/tmp/tmpu42vmr33/saved_array_masks/mask_110.png'}, {'image': '/tmp/tmpu42vmr33/saved_array_images/image_111.png', 'label': '/tmp/tmpu42vmr33/saved_array_masks/mask_111.png'}, {'image': '/tmp/tmpu42vmr33/saved_array_images/image_112.png', 'label': '/tmp/tmpu42vmr33/saved_array_masks/mask_112.png'}, {'image': '/tmp/tmpu42vmr33/saved_array_images/image_114.png', 'label': '/tmp/tmpu42vmr33/saved_array_masks/mask_114.png'}, {'image': '/tmp/tmpu42vmr33/saved_array_images/image_115.png', 'label': '/tmp/tmpu42vmr33/saved_array_masks/mask_115.png'}, {'image': '/tmp/tmpu42vmr33/saved_array_images/image_116.png', 'label': '/tmp/tmpu42vmr33/saved_array_masks/mask_116.png'}, {'image': '/tmp/tmpu42vmr33/saved_array_images/image_119.png', 'label': '/tmp/tmpu42vmr33/saved_array_masks/mask_119.png'}, {'image': '/tmp/tmpu42vmr33/saved_array_images/image_12.png', 'label': '/tmp/tmpu42vmr33/saved_array_masks/mask_12.png'}, {'image': '/tmp/tmpu42vmr33/saved_array_images/image_120.png', 'label': '/tmp/tmpu42vmr33/saved_array_masks/mask_120.png'}, {'image': '/tmp/tmpu42vmr33/saved_array_images/image_121.png', 'label': '/tmp/tmpu42vmr33/saved_array_masks/mask_121.png'}, {'image': '/tmp/tmpu42vmr33/saved_array_images/image_124.png', 'label': '/tmp/tmpu42vmr33/saved_array_masks/mask_124.png'}, {'image': '/tmp/tmpu42vmr33/saved_array_images/image_125.png', 'label': '/tmp/tmpu42vmr33/saved_array_masks/mask_125.png'}, {'image': '/tmp/tmpu42vmr33/saved_array_images/image_126.png', 'label': '/tmp/tmpu42vmr33/saved_array_masks/mask_126.png'}, {'image': '/tmp/tmpu42vmr33/saved_array_images/image_131.png', 'label': '/tmp/tmpu42vmr33/saved_array_masks/mask_131.png'}, {'image': '/tmp/tmpu42vmr33/saved_array_images/image_132.png', 'label': '/tmp/tmpu42vmr33/saved_array_masks/mask_132.png'}, {'image': '/tmp/tmpu42vmr33/saved_array_images/image_133.png', 'label': '/tmp/tmpu42vmr33/saved_array_masks/mask_133.png'}, {'image': '/tmp/tmpu42vmr33/saved_array_images/image_135.png', 'label': '/tmp/tmpu42vmr33/saved_array_masks/mask_135.png'}, {'image': '/tmp/tmpu42vmr33/saved_array_images/image_136.png', 'label': '/tmp/tmpu42vmr33/saved_array_masks/mask_136.png'}, {'image': '/tmp/tmpu42vmr33/saved_array_images/image_137.png', 'label': '/tmp/tmpu42vmr33/saved_array_masks/mask_137.png'}, {'image': '/tmp/tmpu42vmr33/saved_array_images/image_138.png', 'label': '/tmp/tmpu42vmr33/saved_array_masks/mask_138.png'}, {'image': '/tmp/tmpu42vmr33/saved_array_images/image_139.png', 'label': '/tmp/tmpu42vmr33/saved_array_masks/mask_139.png'}, {'image': '/tmp/tmpu42vmr33/saved_array_images/image_14.png', 'label': '/tmp/tmpu42vmr33/saved_array_masks/mask_14.png'}, {'image': '/tmp/tmpu42vmr33/saved_array_images/image_142.png', 'label': '/tmp/tmpu42vmr33/saved_array_masks/mask_142.png'}, {'image': '/tmp/tmpu42vmr33/saved_array_images/image_144.png', 'label': '/tmp/tmpu42vmr33/saved_array_masks/mask_144.png'}, {'image': '/tmp/tmpu42vmr33/saved_array_images/image_145.png', 'label': '/tmp/tmpu42vmr33/saved_array_masks/mask_145.png'}, {'image': '/tmp/tmpu42vmr33/saved_array_images/image_146.png', 'label': '/tmp/tmpu42vmr33/saved_array_masks/mask_146.png'}, {'image': '/tmp/tmpu42vmr33/saved_array_images/image_147.png', 'label': '/tmp/tmpu42vmr33/saved_array_masks/mask_147.png'}, {'image': '/tmp/tmpu42vmr33/saved_array_images/image_15.png', 'label': '/tmp/tmpu42vmr33/saved_array_masks/mask_15.png'}, {'image': '/tmp/tmpu42vmr33/saved_array_images/image_151.png', 'label': '/tmp/tmpu42vmr33/saved_array_masks/mask_151.png'}, {'image': '/tmp/tmpu42vmr33/saved_array_images/image_152.png', 'label': '/tmp/tmpu42vmr33/saved_array_masks/mask_152.png'}, {'image': '/tmp/tmpu42vmr33/saved_array_images/image_155.png', 'label': '/tmp/tmpu42vmr33/saved_array_masks/mask_155.png'}, {'image': '/tmp/tmpu42vmr33/saved_array_images/image_156.png', 'label': '/tmp/tmpu42vmr33/saved_array_masks/mask_156.png'}, {'image': '/tmp/tmpu42vmr33/saved_array_images/image_157.png', 'label': '/tmp/tmpu42vmr33/saved_array_masks/mask_157.png'}, {'image': '/tmp/tmpu42vmr33/saved_array_images/image_159.png', 'label': '/tmp/tmpu42vmr33/saved_array_masks/mask_159.png'}, {'image': '/tmp/tmpu42vmr33/saved_array_images/image_160.png', 'label': '/tmp/tmpu42vmr33/saved_array_masks/mask_160.png'}, {'image': '/tmp/tmpu42vmr33/saved_array_images/image_161.png', 'label': '/tmp/tmpu42vmr33/saved_array_masks/mask_161.png'}, {'image': '/tmp/tmpu42vmr33/saved_array_images/image_166.png', 'label': '/tmp/tmpu42vmr33/saved_array_masks/mask_166.png'}, {'image': '/tmp/tmpu42vmr33/saved_array_images/image_171.png', 'label': '/tmp/tmpu42vmr33/saved_array_masks/mask_171.png'}, {'image': '/tmp/tmpu42vmr33/saved_array_images/image_172.png', 'label': '/tmp/tmpu42vmr33/saved_array_masks/mask_172.png'}, {'image': '/tmp/tmpu42vmr33/saved_array_images/image_174.png', 'label': '/tmp/tmpu42vmr33/saved_array_masks/mask_174.png'}, {'image': '/tmp/tmpu42vmr33/saved_array_images/image_178.png', 'label': '/tmp/tmpu42vmr33/saved_array_masks/mask_178.png'}, {'image': '/tmp/tmpu42vmr33/saved_array_images/image_179.png', 'label': '/tmp/tmpu42vmr33/saved_array_masks/mask_179.png'}, {'image': '/tmp/tmpu42vmr33/saved_array_images/image_18.png', 'label': '/tmp/tmpu42vmr33/saved_array_masks/mask_18.png'}, {'image': '/tmp/tmpu42vmr33/saved_array_images/image_181.png', 'label': '/tmp/tmpu42vmr33/saved_array_masks/mask_181.png'}, {'image': '/tmp/tmpu42vmr33/saved_array_images/image_182.png', 'label': '/tmp/tmpu42vmr33/saved_array_masks/mask_182.png'}, {'image': '/tmp/tmpu42vmr33/saved_array_images/image_183.png', 'label': '/tmp/tmpu42vmr33/saved_array_masks/mask_183.png'}, {'image': '/tmp/tmpu42vmr33/saved_array_images/image_184.png', 'label': '/tmp/tmpu42vmr33/saved_array_masks/mask_184.png'}, {'image': '/tmp/tmpu42vmr33/saved_array_images/image_186.png', 'label': '/tmp/tmpu42vmr33/saved_array_masks/mask_186.png'}, {'image': '/tmp/tmpu42vmr33/saved_array_images/image_189.png', 'label': '/tmp/tmpu42vmr33/saved_array_masks/mask_189.png'}, {'image': '/tmp/tmpu42vmr33/saved_array_images/image_191.png', 'label': '/tmp/tmpu42vmr33/saved_array_masks/mask_191.png'}, {'image': '/tmp/tmpu42vmr33/saved_array_images/image_192.png', 'label': '/tmp/tmpu42vmr33/saved_array_masks/mask_192.png'}, {'image': '/tmp/tmpu42vmr33/saved_array_images/image_193.png', 'label': '/tmp/tmpu42vmr33/saved_array_masks/mask_193.png'}, {'image': '/tmp/tmpu42vmr33/saved_array_images/image_194.png', 'label': '/tmp/tmpu42vmr33/saved_array_masks/mask_194.png'}, {'image': '/tmp/tmpu42vmr33/saved_array_images/image_196.png', 'label': '/tmp/tmpu42vmr33/saved_array_masks/mask_196.png'}, {'image': '/tmp/tmpu42vmr33/saved_array_images/image_197.png', 'label': '/tmp/tmpu42vmr33/saved_array_masks/mask_197.png'}, {'image': '/tmp/tmpu42vmr33/saved_array_images/image_198.png', 'label': '/tmp/tmpu42vmr33/saved_array_masks/mask_198.png'}, {'image': '/tmp/tmpu42vmr33/saved_array_images/image_2.png', 'label': '/tmp/tmpu42vmr33/saved_array_masks/mask_2.png'}, {'image': '/tmp/tmpu42vmr33/saved_array_images/image_20.png', 'label': '/tmp/tmpu42vmr33/saved_array_masks/mask_20.png'}, {'image': '/tmp/tmpu42vmr33/saved_array_images/image_200.png', 'label': '/tmp/tmpu42vmr33/saved_array_masks/mask_200.png'}, {'image': '/tmp/tmpu42vmr33/saved_array_images/image_201.png', 'label': '/tmp/tmpu42vmr33/saved_array_masks/mask_201.png'}, {'image': '/tmp/tmpu42vmr33/saved_array_images/image_202.png', 'label': '/tmp/tmpu42vmr33/saved_array_masks/mask_202.png'}, {'image': '/tmp/tmpu42vmr33/saved_array_images/image_204.png', 'label': '/tmp/tmpu42vmr33/saved_array_masks/mask_204.png'}, {'image': '/tmp/tmpu42vmr33/saved_array_images/image_205.png', 'label': '/tmp/tmpu42vmr33/saved_array_masks/mask_205.png'}, {'image': '/tmp/tmpu42vmr33/saved_array_images/image_209.png', 'label': '/tmp/tmpu42vmr33/saved_array_masks/mask_209.png'}, {'image': '/tmp/tmpu42vmr33/saved_array_images/image_21.png', 'label': '/tmp/tmpu42vmr33/saved_array_masks/mask_21.png'}, {'image': '/tmp/tmpu42vmr33/saved_array_images/image_210.png', 'label': '/tmp/tmpu42vmr33/saved_array_masks/mask_210.png'}, {'image': '/tmp/tmpu42vmr33/saved_array_images/image_211.png', 'label': '/tmp/tmpu42vmr33/saved_array_masks/mask_211.png'}, {'image': '/tmp/tmpu42vmr33/saved_array_images/image_212.png', 'label': '/tmp/tmpu42vmr33/saved_array_masks/mask_212.png'}, {'image': '/tmp/tmpu42vmr33/saved_array_images/image_214.png', 'label': '/tmp/tmpu42vmr33/saved_array_masks/mask_214.png'}, {'image': '/tmp/tmpu42vmr33/saved_array_images/image_215.png', 'label': '/tmp/tmpu42vmr33/saved_array_masks/mask_215.png'}, {'image': '/tmp/tmpu42vmr33/saved_array_images/image_217.png', 'label': '/tmp/tmpu42vmr33/saved_array_masks/mask_217.png'}, {'image': '/tmp/tmpu42vmr33/saved_array_images/image_218.png', 'label': '/tmp/tmpu42vmr33/saved_array_masks/mask_218.png'}, {'image': '/tmp/tmpu42vmr33/saved_array_images/image_219.png', 'label': '/tmp/tmpu42vmr33/saved_array_masks/mask_219.png'}, {'image': '/tmp/tmpu42vmr33/saved_array_images/image_22.png', 'label': '/tmp/tmpu42vmr33/saved_array_masks/mask_22.png'}, {'image': '/tmp/tmpu42vmr33/saved_array_images/image_221.png', 'label': '/tmp/tmpu42vmr33/saved_array_masks/mask_221.png'}, {'image': '/tmp/tmpu42vmr33/saved_array_images/image_223.png', 'label': '/tmp/tmpu42vmr33/saved_array_masks/mask_223.png'}, {'image': '/tmp/tmpu42vmr33/saved_array_images/image_224.png', 'label': '/tmp/tmpu42vmr33/saved_array_masks/mask_224.png'}, {'image': '/tmp/tmpu42vmr33/saved_array_images/image_226.png', 'label': '/tmp/tmpu42vmr33/saved_array_masks/mask_226.png'}, {'image': '/tmp/tmpu42vmr33/saved_array_images/image_227.png', 'label': '/tmp/tmpu42vmr33/saved_array_masks/mask_227.png'}, {'image': '/tmp/tmpu42vmr33/saved_array_images/image_228.png', 'label': '/tmp/tmpu42vmr33/saved_array_masks/mask_228.png'}, {'image': '/tmp/tmpu42vmr33/saved_array_images/image_229.png', 'label': '/tmp/tmpu42vmr33/saved_array_masks/mask_229.png'}, {'image': '/tmp/tmpu42vmr33/saved_array_images/image_230.png', 'label': '/tmp/tmpu42vmr33/saved_array_masks/mask_230.png'}, {'image': '/tmp/tmpu42vmr33/saved_array_images/image_231.png', 'label': '/tmp/tmpu42vmr33/saved_array_masks/mask_231.png'}, {'image': '/tmp/tmpu42vmr33/saved_array_images/image_232.png', 'label': '/tmp/tmpu42vmr33/saved_array_masks/mask_232.png'}, {'image': '/tmp/tmpu42vmr33/saved_array_images/image_233.png', 'label': '/tmp/tmpu42vmr33/saved_array_masks/mask_233.png'}, {'image': '/tmp/tmpu42vmr33/saved_array_images/image_234.png', 'label': '/tmp/tmpu42vmr33/saved_array_masks/mask_234.png'}, {'image': '/tmp/tmpu42vmr33/saved_array_images/image_235.png', 'label': '/tmp/tmpu42vmr33/saved_array_masks/mask_235.png'}, {'image': '/tmp/tmpu42vmr33/saved_array_images/image_237.png', 'label': '/tmp/tmpu42vmr33/saved_array_masks/mask_237.png'}, {'image': '/tmp/tmpu42vmr33/saved_array_images/image_238.png', 'label': '/tmp/tmpu42vmr33/saved_array_masks/mask_238.png'}, {'image': '/tmp/tmpu42vmr33/saved_array_images/image_239.png', 'label': '/tmp/tmpu42vmr33/saved_array_masks/mask_239.png'}, {'image': '/tmp/tmpu42vmr33/saved_array_images/image_242.png', 'label': '/tmp/tmpu42vmr33/saved_array_masks/mask_242.png'}, {'image': '/tmp/tmpu42vmr33/saved_array_images/image_243.png', 'label': '/tmp/tmpu42vmr33/saved_array_masks/mask_243.png'}, {'image': '/tmp/tmpu42vmr33/saved_array_images/image_245.png', 'label': '/tmp/tmpu42vmr33/saved_array_masks/mask_245.png'}, {'image': '/tmp/tmpu42vmr33/saved_array_images/image_247.png', 'label': '/tmp/tmpu42vmr33/saved_array_masks/mask_247.png'}, {'image': '/tmp/tmpu42vmr33/saved_array_images/image_248.png', 'label': '/tmp/tmpu42vmr33/saved_array_masks/mask_248.png'}, {'image': '/tmp/tmpu42vmr33/saved_array_images/image_249.png', 'label': '/tmp/tmpu42vmr33/saved_array_masks/mask_249.png'}, {'image': '/tmp/tmpu42vmr33/saved_array_images/image_25.png', 'label': '/tmp/tmpu42vmr33/saved_array_masks/mask_25.png'}, {'image': '/tmp/tmpu42vmr33/saved_array_images/image_250.png', 'label': '/tmp/tmpu42vmr33/saved_array_masks/mask_250.png'}, {'image': '/tmp/tmpu42vmr33/saved_array_images/image_251.png', 'label': '/tmp/tmpu42vmr33/saved_array_masks/mask_251.png'}, {'image': '/tmp/tmpu42vmr33/saved_array_images/image_252.png', 'label': '/tmp/tmpu42vmr33/saved_array_masks/mask_252.png'}, {'image': '/tmp/tmpu42vmr33/saved_array_images/image_254.png', 'label': '/tmp/tmpu42vmr33/saved_array_masks/mask_254.png'}, {'image': '/tmp/tmpu42vmr33/saved_array_images/image_255.png', 'label': '/tmp/tmpu42vmr33/saved_array_masks/mask_255.png'}, {'image': '/tmp/tmpu42vmr33/saved_array_images/image_256.png', 'label': '/tmp/tmpu42vmr33/saved_array_masks/mask_256.png'}, {'image': '/tmp/tmpu42vmr33/saved_array_images/image_258.png', 'label': '/tmp/tmpu42vmr33/saved_array_masks/mask_258.png'}, {'image': '/tmp/tmpu42vmr33/saved_array_images/image_259.png', 'label': '/tmp/tmpu42vmr33/saved_array_masks/mask_259.png'}, {'image': '/tmp/tmpu42vmr33/saved_array_images/image_26.png', 'label': '/tmp/tmpu42vmr33/saved_array_masks/mask_26.png'}, {'image': '/tmp/tmpu42vmr33/saved_array_images/image_261.png', 'label': '/tmp/tmpu42vmr33/saved_array_masks/mask_261.png'}, {'image': '/tmp/tmpu42vmr33/saved_array_images/image_262.png', 'label': '/tmp/tmpu42vmr33/saved_array_masks/mask_262.png'}, {'image': '/tmp/tmpu42vmr33/saved_array_images/image_263.png', 'label': '/tmp/tmpu42vmr33/saved_array_masks/mask_263.png'}, {'image': '/tmp/tmpu42vmr33/saved_array_images/image_264.png', 'label': '/tmp/tmpu42vmr33/saved_array_masks/mask_264.png'}, {'image': '/tmp/tmpu42vmr33/saved_array_images/image_265.png', 'label': '/tmp/tmpu42vmr33/saved_array_masks/mask_265.png'}, {'image': '/tmp/tmpu42vmr33/saved_array_images/image_266.png', 'label': '/tmp/tmpu42vmr33/saved_array_masks/mask_266.png'}, {'image': '/tmp/tmpu42vmr33/saved_array_images/image_269.png', 'label': '/tmp/tmpu42vmr33/saved_array_masks/mask_269.png'}, {'image': '/tmp/tmpu42vmr33/saved_array_images/image_270.png', 'label': '/tmp/tmpu42vmr33/saved_array_masks/mask_270.png'}, {'image': '/tmp/tmpu42vmr33/saved_array_images/image_271.png', 'label': '/tmp/tmpu42vmr33/saved_array_masks/mask_271.png'}, {'image': '/tmp/tmpu42vmr33/saved_array_images/image_275.png', 'label': '/tmp/tmpu42vmr33/saved_array_masks/mask_275.png'}, {'image': '/tmp/tmpu42vmr33/saved_array_images/image_276.png', 'label': '/tmp/tmpu42vmr33/saved_array_masks/mask_276.png'}, {'image': '/tmp/tmpu42vmr33/saved_array_images/image_277.png', 'label': '/tmp/tmpu42vmr33/saved_array_masks/mask_277.png'}, {'image': '/tmp/tmpu42vmr33/saved_array_images/image_278.png', 'label': '/tmp/tmpu42vmr33/saved_array_masks/mask_278.png'}, {'image': '/tmp/tmpu42vmr33/saved_array_images/image_28.png', 'label': '/tmp/tmpu42vmr33/saved_array_masks/mask_28.png'}, {'image': '/tmp/tmpu42vmr33/saved_array_images/image_280.png', 'label': '/tmp/tmpu42vmr33/saved_array_masks/mask_280.png'}, {'image': '/tmp/tmpu42vmr33/saved_array_images/image_281.png', 'label': '/tmp/tmpu42vmr33/saved_array_masks/mask_281.png'}, {'image': '/tmp/tmpu42vmr33/saved_array_images/image_282.png', 'label': '/tmp/tmpu42vmr33/saved_array_masks/mask_282.png'}, {'image': '/tmp/tmpu42vmr33/saved_array_images/image_284.png', 'label': '/tmp/tmpu42vmr33/saved_array_masks/mask_284.png'}, {'image': '/tmp/tmpu42vmr33/saved_array_images/image_285.png', 'label': '/tmp/tmpu42vmr33/saved_array_masks/mask_285.png'}, {'image': '/tmp/tmpu42vmr33/saved_array_images/image_287.png', 'label': '/tmp/tmpu42vmr33/saved_array_masks/mask_287.png'}, {'image': '/tmp/tmpu42vmr33/saved_array_images/image_288.png', 'label': '/tmp/tmpu42vmr33/saved_array_masks/mask_288.png'}, {'image': '/tmp/tmpu42vmr33/saved_array_images/image_289.png', 'label': '/tmp/tmpu42vmr33/saved_array_masks/mask_289.png'}, {'image': '/tmp/tmpu42vmr33/saved_array_images/image_29.png', 'label': '/tmp/tmpu42vmr33/saved_array_masks/mask_29.png'}, {'image': '/tmp/tmpu42vmr33/saved_array_images/image_290.png', 'label': '/tmp/tmpu42vmr33/saved_array_masks/mask_290.png'}, {'image': '/tmp/tmpu42vmr33/saved_array_images/image_292.png', 'label': '/tmp/tmpu42vmr33/saved_array_masks/mask_292.png'}, {'image': '/tmp/tmpu42vmr33/saved_array_images/image_294.png', 'label': '/tmp/tmpu42vmr33/saved_array_masks/mask_294.png'}, {'image': '/tmp/tmpu42vmr33/saved_array_images/image_296.png', 'label': '/tmp/tmpu42vmr33/saved_array_masks/mask_296.png'}, {'image': '/tmp/tmpu42vmr33/saved_array_images/image_297.png', 'label': '/tmp/tmpu42vmr33/saved_array_masks/mask_297.png'}, {'image': '/tmp/tmpu42vmr33/saved_array_images/image_298.png', 'label': '/tmp/tmpu42vmr33/saved_array_masks/mask_298.png'}, {'image': '/tmp/tmpu42vmr33/saved_array_images/image_3.png', 'label': '/tmp/tmpu42vmr33/saved_array_masks/mask_3.png'}, {'image': '/tmp/tmpu42vmr33/saved_array_images/image_30.png', 'label': '/tmp/tmpu42vmr33/saved_array_masks/mask_30.png'}, {'image': '/tmp/tmpu42vmr33/saved_array_images/image_300.png', 'label': '/tmp/tmpu42vmr33/saved_array_masks/mask_300.png'}, {'image': '/tmp/tmpu42vmr33/saved_array_images/image_301.png', 'label': '/tmp/tmpu42vmr33/saved_array_masks/mask_301.png'}, {'image': '/tmp/tmpu42vmr33/saved_array_images/image_304.png', 'label': '/tmp/tmpu42vmr33/saved_array_masks/mask_304.png'}, {'image': '/tmp/tmpu42vmr33/saved_array_images/image_305.png', 'label': '/tmp/tmpu42vmr33/saved_array_masks/mask_305.png'}, {'image': '/tmp/tmpu42vmr33/saved_array_images/image_309.png', 'label': '/tmp/tmpu42vmr33/saved_array_masks/mask_309.png'}, {'image': '/tmp/tmpu42vmr33/saved_array_images/image_310.png', 'label': '/tmp/tmpu42vmr33/saved_array_masks/mask_310.png'}, {'image': '/tmp/tmpu42vmr33/saved_array_images/image_311.png', 'label': '/tmp/tmpu42vmr33/saved_array_masks/mask_311.png'}, {'image': '/tmp/tmpu42vmr33/saved_array_images/image_312.png', 'label': '/tmp/tmpu42vmr33/saved_array_masks/mask_312.png'}, {'image': '/tmp/tmpu42vmr33/saved_array_images/image_313.png', 'label': '/tmp/tmpu42vmr33/saved_array_masks/mask_313.png'}, {'image': '/tmp/tmpu42vmr33/saved_array_images/image_314.png', 'label': '/tmp/tmpu42vmr33/saved_array_masks/mask_314.png'}, {'image': '/tmp/tmpu42vmr33/saved_array_images/image_315.png', 'label': '/tmp/tmpu42vmr33/saved_array_masks/mask_315.png'}, {'image': '/tmp/tmpu42vmr33/saved_array_images/image_318.png', 'label': '/tmp/tmpu42vmr33/saved_array_masks/mask_318.png'}, {'image': '/tmp/tmpu42vmr33/saved_array_images/image_319.png', 'label': '/tmp/tmpu42vmr33/saved_array_masks/mask_319.png'}, {'image': '/tmp/tmpu42vmr33/saved_array_images/image_32.png', 'label': '/tmp/tmpu42vmr33/saved_array_masks/mask_32.png'}, {'image': '/tmp/tmpu42vmr33/saved_array_images/image_320.png', 'label': '/tmp/tmpu42vmr33/saved_array_masks/mask_320.png'}, {'image': '/tmp/tmpu42vmr33/saved_array_images/image_322.png', 'label': '/tmp/tmpu42vmr33/saved_array_masks/mask_322.png'}, {'image': '/tmp/tmpu42vmr33/saved_array_images/image_323.png', 'label': '/tmp/tmpu42vmr33/saved_array_masks/mask_323.png'}, {'image': '/tmp/tmpu42vmr33/saved_array_images/image_324.png', 'label': '/tmp/tmpu42vmr33/saved_array_masks/mask_324.png'}, {'image': '/tmp/tmpu42vmr33/saved_array_images/image_325.png', 'label': '/tmp/tmpu42vmr33/saved_array_masks/mask_325.png'}, {'image': '/tmp/tmpu42vmr33/saved_array_images/image_327.png', 'label': '/tmp/tmpu42vmr33/saved_array_masks/mask_327.png'}, {'image': '/tmp/tmpu42vmr33/saved_array_images/image_329.png', 'label': '/tmp/tmpu42vmr33/saved_array_masks/mask_329.png'}, {'image': '/tmp/tmpu42vmr33/saved_array_images/image_330.png', 'label': '/tmp/tmpu42vmr33/saved_array_masks/mask_330.png'}, {'image': '/tmp/tmpu42vmr33/saved_array_images/image_333.png', 'label': '/tmp/tmpu42vmr33/saved_array_masks/mask_333.png'}, {'image': '/tmp/tmpu42vmr33/saved_array_images/image_334.png', 'label': '/tmp/tmpu42vmr33/saved_array_masks/mask_334.png'}, {'image': '/tmp/tmpu42vmr33/saved_array_images/image_336.png', 'label': '/tmp/tmpu42vmr33/saved_array_masks/mask_336.png'}, {'image': '/tmp/tmpu42vmr33/saved_array_images/image_339.png', 'label': '/tmp/tmpu42vmr33/saved_array_masks/mask_339.png'}, {'image': '/tmp/tmpu42vmr33/saved_array_images/image_34.png', 'label': '/tmp/tmpu42vmr33/saved_array_masks/mask_34.png'}, {'image': '/tmp/tmpu42vmr33/saved_array_images/image_340.png', 'label': '/tmp/tmpu42vmr33/saved_array_masks/mask_340.png'}, {'image': '/tmp/tmpu42vmr33/saved_array_images/image_341.png', 'label': '/tmp/tmpu42vmr33/saved_array_masks/mask_341.png'}, {'image': '/tmp/tmpu42vmr33/saved_array_images/image_342.png', 'label': '/tmp/tmpu42vmr33/saved_array_masks/mask_342.png'}, {'image': '/tmp/tmpu42vmr33/saved_array_images/image_343.png', 'label': '/tmp/tmpu42vmr33/saved_array_masks/mask_343.png'}, {'image': '/tmp/tmpu42vmr33/saved_array_images/image_344.png', 'label': '/tmp/tmpu42vmr33/saved_array_masks/mask_344.png'}, {'image': '/tmp/tmpu42vmr33/saved_array_images/image_347.png', 'label': '/tmp/tmpu42vmr33/saved_array_masks/mask_347.png'}, {'image': '/tmp/tmpu42vmr33/saved_array_images/image_350.png', 'label': '/tmp/tmpu42vmr33/saved_array_masks/mask_350.png'}, {'image': '/tmp/tmpu42vmr33/saved_array_images/image_351.png', 'label': '/tmp/tmpu42vmr33/saved_array_masks/mask_351.png'}, {'image': '/tmp/tmpu42vmr33/saved_array_images/image_352.png', 'label': '/tmp/tmpu42vmr33/saved_array_masks/mask_352.png'}, {'image': '/tmp/tmpu42vmr33/saved_array_images/image_353.png', 'label': '/tmp/tmpu42vmr33/saved_array_masks/mask_353.png'}, {'image': '/tmp/tmpu42vmr33/saved_array_images/image_354.png', 'label': '/tmp/tmpu42vmr33/saved_array_masks/mask_354.png'}, {'image': '/tmp/tmpu42vmr33/saved_array_images/image_356.png', 'label': '/tmp/tmpu42vmr33/saved_array_masks/mask_356.png'}, {'image': '/tmp/tmpu42vmr33/saved_array_images/image_357.png', 'label': '/tmp/tmpu42vmr33/saved_array_masks/mask_357.png'}, {'image': '/tmp/tmpu42vmr33/saved_array_images/image_358.png', 'label': '/tmp/tmpu42vmr33/saved_array_masks/mask_358.png'}, {'image': '/tmp/tmpu42vmr33/saved_array_images/image_359.png', 'label': '/tmp/tmpu42vmr33/saved_array_masks/mask_359.png'}, {'image': '/tmp/tmpu42vmr33/saved_array_images/image_360.png', 'label': '/tmp/tmpu42vmr33/saved_array_masks/mask_360.png'}, {'image': '/tmp/tmpu42vmr33/saved_array_images/image_361.png', 'label': '/tmp/tmpu42vmr33/saved_array_masks/mask_361.png'}, {'image': '/tmp/tmpu42vmr33/saved_array_images/image_362.png', 'label': '/tmp/tmpu42vmr33/saved_array_masks/mask_362.png'}, {'image': '/tmp/tmpu42vmr33/saved_array_images/image_363.png', 'label': '/tmp/tmpu42vmr33/saved_array_masks/mask_363.png'}, {'image': '/tmp/tmpu42vmr33/saved_array_images/image_364.png', 'label': '/tmp/tmpu42vmr33/saved_array_masks/mask_364.png'}, {'image': '/tmp/tmpu42vmr33/saved_array_images/image_365.png', 'label': '/tmp/tmpu42vmr33/saved_array_masks/mask_365.png'}, {'image': '/tmp/tmpu42vmr33/saved_array_images/image_367.png', 'label': '/tmp/tmpu42vmr33/saved_array_masks/mask_367.png'}, {'image': '/tmp/tmpu42vmr33/saved_array_images/image_368.png', 'label': '/tmp/tmpu42vmr33/saved_array_masks/mask_368.png'}, {'image': '/tmp/tmpu42vmr33/saved_array_images/image_37.png', 'label': '/tmp/tmpu42vmr33/saved_array_masks/mask_37.png'}, {'image': '/tmp/tmpu42vmr33/saved_array_images/image_374.png', 'label': '/tmp/tmpu42vmr33/saved_array_masks/mask_374.png'}, {'image': '/tmp/tmpu42vmr33/saved_array_images/image_376.png', 'label': '/tmp/tmpu42vmr33/saved_array_masks/mask_376.png'}, {'image': '/tmp/tmpu42vmr33/saved_array_images/image_377.png', 'label': '/tmp/tmpu42vmr33/saved_array_masks/mask_377.png'}, {'image': '/tmp/tmpu42vmr33/saved_array_images/image_379.png', 'label': '/tmp/tmpu42vmr33/saved_array_masks/mask_379.png'}, {'image': '/tmp/tmpu42vmr33/saved_array_images/image_38.png', 'label': '/tmp/tmpu42vmr33/saved_array_masks/mask_38.png'}, {'image': '/tmp/tmpu42vmr33/saved_array_images/image_380.png', 'label': '/tmp/tmpu42vmr33/saved_array_masks/mask_380.png'}, {'image': '/tmp/tmpu42vmr33/saved_array_images/image_386.png', 'label': '/tmp/tmpu42vmr33/saved_array_masks/mask_386.png'}, {'image': '/tmp/tmpu42vmr33/saved_array_images/image_389.png', 'label': '/tmp/tmpu42vmr33/saved_array_masks/mask_389.png'}, {'image': '/tmp/tmpu42vmr33/saved_array_images/image_39.png', 'label': '/tmp/tmpu42vmr33/saved_array_masks/mask_39.png'}, {'image': '/tmp/tmpu42vmr33/saved_array_images/image_391.png', 'label': '/tmp/tmpu42vmr33/saved_array_masks/mask_391.png'}, {'image': '/tmp/tmpu42vmr33/saved_array_images/image_392.png', 'label': '/tmp/tmpu42vmr33/saved_array_masks/mask_392.png'}, {'image': '/tmp/tmpu42vmr33/saved_array_images/image_395.png', 'label': '/tmp/tmpu42vmr33/saved_array_masks/mask_395.png'}, {'image': '/tmp/tmpu42vmr33/saved_array_images/image_397.png', 'label': '/tmp/tmpu42vmr33/saved_array_masks/mask_397.png'}, {'image': '/tmp/tmpu42vmr33/saved_array_images/image_399.png', 'label': '/tmp/tmpu42vmr33/saved_array_masks/mask_399.png'}, {'image': '/tmp/tmpu42vmr33/saved_array_images/image_4.png', 'label': '/tmp/tmpu42vmr33/saved_array_masks/mask_4.png'}, {'image': '/tmp/tmpu42vmr33/saved_array_images/image_40.png', 'label': '/tmp/tmpu42vmr33/saved_array_masks/mask_40.png'}, {'image': '/tmp/tmpu42vmr33/saved_array_images/image_401.png', 'label': '/tmp/tmpu42vmr33/saved_array_masks/mask_401.png'}, {'image': '/tmp/tmpu42vmr33/saved_array_images/image_403.png', 'label': '/tmp/tmpu42vmr33/saved_array_masks/mask_403.png'}, {'image': '/tmp/tmpu42vmr33/saved_array_images/image_404.png', 'label': '/tmp/tmpu42vmr33/saved_array_masks/mask_404.png'}, {'image': '/tmp/tmpu42vmr33/saved_array_images/image_405.png', 'label': '/tmp/tmpu42vmr33/saved_array_masks/mask_405.png'}, {'image': '/tmp/tmpu42vmr33/saved_array_images/image_406.png', 'label': '/tmp/tmpu42vmr33/saved_array_masks/mask_406.png'}, {'image': '/tmp/tmpu42vmr33/saved_array_images/image_407.png', 'label': '/tmp/tmpu42vmr33/saved_array_masks/mask_407.png'}, {'image': '/tmp/tmpu42vmr33/saved_array_images/image_409.png', 'label': '/tmp/tmpu42vmr33/saved_array_masks/mask_409.png'}, {'image': '/tmp/tmpu42vmr33/saved_array_images/image_410.png', 'label': '/tmp/tmpu42vmr33/saved_array_masks/mask_410.png'}, {'image': '/tmp/tmpu42vmr33/saved_array_images/image_412.png', 'label': '/tmp/tmpu42vmr33/saved_array_masks/mask_412.png'}, {'image': '/tmp/tmpu42vmr33/saved_array_images/image_413.png', 'label': '/tmp/tmpu42vmr33/saved_array_masks/mask_413.png'}, {'image': '/tmp/tmpu42vmr33/saved_array_images/image_415.png', 'label': '/tmp/tmpu42vmr33/saved_array_masks/mask_415.png'}, {'image': '/tmp/tmpu42vmr33/saved_array_images/image_416.png', 'label': '/tmp/tmpu42vmr33/saved_array_masks/mask_416.png'}, {'image': '/tmp/tmpu42vmr33/saved_array_images/image_417.png', 'label': '/tmp/tmpu42vmr33/saved_array_masks/mask_417.png'}, {'image': '/tmp/tmpu42vmr33/saved_array_images/image_418.png', 'label': '/tmp/tmpu42vmr33/saved_array_masks/mask_418.png'}, {'image': '/tmp/tmpu42vmr33/saved_array_images/image_423.png', 'label': '/tmp/tmpu42vmr33/saved_array_masks/mask_423.png'}, {'image': '/tmp/tmpu42vmr33/saved_array_images/image_424.png', 'label': '/tmp/tmpu42vmr33/saved_array_masks/mask_424.png'}, {'image': '/tmp/tmpu42vmr33/saved_array_images/image_426.png', 'label': '/tmp/tmpu42vmr33/saved_array_masks/mask_426.png'}, {'image': '/tmp/tmpu42vmr33/saved_array_images/image_428.png', 'label': '/tmp/tmpu42vmr33/saved_array_masks/mask_428.png'}, {'image': '/tmp/tmpu42vmr33/saved_array_images/image_430.png', 'label': '/tmp/tmpu42vmr33/saved_array_masks/mask_430.png'}, {'image': '/tmp/tmpu42vmr33/saved_array_images/image_431.png', 'label': '/tmp/tmpu42vmr33/saved_array_masks/mask_431.png'}, {'image': '/tmp/tmpu42vmr33/saved_array_images/image_432.png', 'label': '/tmp/tmpu42vmr33/saved_array_masks/mask_432.png'}, {'image': '/tmp/tmpu42vmr33/saved_array_images/image_433.png', 'label': '/tmp/tmpu42vmr33/saved_array_masks/mask_433.png'}, {'image': '/tmp/tmpu42vmr33/saved_array_images/image_434.png', 'label': '/tmp/tmpu42vmr33/saved_array_masks/mask_434.png'}, {'image': '/tmp/tmpu42vmr33/saved_array_images/image_436.png', 'label': '/tmp/tmpu42vmr33/saved_array_masks/mask_436.png'}, {'image': '/tmp/tmpu42vmr33/saved_array_images/image_438.png', 'label': '/tmp/tmpu42vmr33/saved_array_masks/mask_438.png'}, {'image': '/tmp/tmpu42vmr33/saved_array_images/image_439.png', 'label': '/tmp/tmpu42vmr33/saved_array_masks/mask_439.png'}, {'image': '/tmp/tmpu42vmr33/saved_array_images/image_44.png', 'label': '/tmp/tmpu42vmr33/saved_array_masks/mask_44.png'}, {'image': '/tmp/tmpu42vmr33/saved_array_images/image_444.png', 'label': '/tmp/tmpu42vmr33/saved_array_masks/mask_444.png'}, {'image': '/tmp/tmpu42vmr33/saved_array_images/image_445.png', 'label': '/tmp/tmpu42vmr33/saved_array_masks/mask_445.png'}, {'image': '/tmp/tmpu42vmr33/saved_array_images/image_446.png', 'label': '/tmp/tmpu42vmr33/saved_array_masks/mask_446.png'}, {'image': '/tmp/tmpu42vmr33/saved_array_images/image_447.png', 'label': '/tmp/tmpu42vmr33/saved_array_masks/mask_447.png'}, {'image': '/tmp/tmpu42vmr33/saved_array_images/image_448.png', 'label': '/tmp/tmpu42vmr33/saved_array_masks/mask_448.png'}, {'image': '/tmp/tmpu42vmr33/saved_array_images/image_45.png', 'label': '/tmp/tmpu42vmr33/saved_array_masks/mask_45.png'}, {'image': '/tmp/tmpu42vmr33/saved_array_images/image_450.png', 'label': '/tmp/tmpu42vmr33/saved_array_masks/mask_450.png'}, {'image': '/tmp/tmpu42vmr33/saved_array_images/image_451.png', 'label': '/tmp/tmpu42vmr33/saved_array_masks/mask_451.png'}, {'image': '/tmp/tmpu42vmr33/saved_array_images/image_452.png', 'label': '/tmp/tmpu42vmr33/saved_array_masks/mask_452.png'}, {'image': '/tmp/tmpu42vmr33/saved_array_images/image_454.png', 'label': '/tmp/tmpu42vmr33/saved_array_masks/mask_454.png'}, {'image': '/tmp/tmpu42vmr33/saved_array_images/image_456.png', 'label': '/tmp/tmpu42vmr33/saved_array_masks/mask_456.png'}, {'image': '/tmp/tmpu42vmr33/saved_array_images/image_457.png', 'label': '/tmp/tmpu42vmr33/saved_array_masks/mask_457.png'}, {'image': '/tmp/tmpu42vmr33/saved_array_images/image_458.png', 'label': '/tmp/tmpu42vmr33/saved_array_masks/mask_458.png'}, {'image': '/tmp/tmpu42vmr33/saved_array_images/image_459.png', 'label': '/tmp/tmpu42vmr33/saved_array_masks/mask_459.png'}, {'image': '/tmp/tmpu42vmr33/saved_array_images/image_46.png', 'label': '/tmp/tmpu42vmr33/saved_array_masks/mask_46.png'}, {'image': '/tmp/tmpu42vmr33/saved_array_images/image_460.png', 'label': '/tmp/tmpu42vmr33/saved_array_masks/mask_460.png'}, {'image': '/tmp/tmpu42vmr33/saved_array_images/image_461.png', 'label': '/tmp/tmpu42vmr33/saved_array_masks/mask_461.png'}, {'image': '/tmp/tmpu42vmr33/saved_array_images/image_462.png', 'label': '/tmp/tmpu42vmr33/saved_array_masks/mask_462.png'}, {'image': '/tmp/tmpu42vmr33/saved_array_images/image_463.png', 'label': '/tmp/tmpu42vmr33/saved_array_masks/mask_463.png'}, {'image': '/tmp/tmpu42vmr33/saved_array_images/image_464.png', 'label': '/tmp/tmpu42vmr33/saved_array_masks/mask_464.png'}, {'image': '/tmp/tmpu42vmr33/saved_array_images/image_465.png', 'label': '/tmp/tmpu42vmr33/saved_array_masks/mask_465.png'}, {'image': '/tmp/tmpu42vmr33/saved_array_images/image_466.png', 'label': '/tmp/tmpu42vmr33/saved_array_masks/mask_466.png'}, {'image': '/tmp/tmpu42vmr33/saved_array_images/image_467.png', 'label': '/tmp/tmpu42vmr33/saved_array_masks/mask_467.png'}, {'image': '/tmp/tmpu42vmr33/saved_array_images/image_468.png', 'label': '/tmp/tmpu42vmr33/saved_array_masks/mask_468.png'}, {'image': '/tmp/tmpu42vmr33/saved_array_images/image_469.png', 'label': '/tmp/tmpu42vmr33/saved_array_masks/mask_469.png'}, {'image': '/tmp/tmpu42vmr33/saved_array_images/image_47.png', 'label': '/tmp/tmpu42vmr33/saved_array_masks/mask_47.png'}, {'image': '/tmp/tmpu42vmr33/saved_array_images/image_472.png', 'label': '/tmp/tmpu42vmr33/saved_array_masks/mask_472.png'}, {'image': '/tmp/tmpu42vmr33/saved_array_images/image_475.png', 'label': '/tmp/tmpu42vmr33/saved_array_masks/mask_475.png'}, {'image': '/tmp/tmpu42vmr33/saved_array_images/image_476.png', 'label': '/tmp/tmpu42vmr33/saved_array_masks/mask_476.png'}, {'image': '/tmp/tmpu42vmr33/saved_array_images/image_479.png', 'label': '/tmp/tmpu42vmr33/saved_array_masks/mask_479.png'}, {'image': '/tmp/tmpu42vmr33/saved_array_images/image_48.png', 'label': '/tmp/tmpu42vmr33/saved_array_masks/mask_48.png'}, {'image': '/tmp/tmpu42vmr33/saved_array_images/image_484.png', 'label': '/tmp/tmpu42vmr33/saved_array_masks/mask_484.png'}, {'image': '/tmp/tmpu42vmr33/saved_array_images/image_485.png', 'label': '/tmp/tmpu42vmr33/saved_array_masks/mask_485.png'}, {'image': '/tmp/tmpu42vmr33/saved_array_images/image_486.png', 'label': '/tmp/tmpu42vmr33/saved_array_masks/mask_486.png'}, {'image': '/tmp/tmpu42vmr33/saved_array_images/image_487.png', 'label': '/tmp/tmpu42vmr33/saved_array_masks/mask_487.png'}, {'image': '/tmp/tmpu42vmr33/saved_array_images/image_490.png', 'label': '/tmp/tmpu42vmr33/saved_array_masks/mask_490.png'}, {'image': '/tmp/tmpu42vmr33/saved_array_images/image_491.png', 'label': '/tmp/tmpu42vmr33/saved_array_masks/mask_491.png'}, {'image': '/tmp/tmpu42vmr33/saved_array_images/image_492.png', 'label': '/tmp/tmpu42vmr33/saved_array_masks/mask_492.png'}, {'image': '/tmp/tmpu42vmr33/saved_array_images/image_496.png', 'label': '/tmp/tmpu42vmr33/saved_array_masks/mask_496.png'}, {'image': '/tmp/tmpu42vmr33/saved_array_images/image_501.png', 'label': '/tmp/tmpu42vmr33/saved_array_masks/mask_501.png'}, {'image': '/tmp/tmpu42vmr33/saved_array_images/image_502.png', 'label': '/tmp/tmpu42vmr33/saved_array_masks/mask_502.png'}, {'image': '/tmp/tmpu42vmr33/saved_array_images/image_504.png', 'label': '/tmp/tmpu42vmr33/saved_array_masks/mask_504.png'}, {'image': '/tmp/tmpu42vmr33/saved_array_images/image_505.png', 'label': '/tmp/tmpu42vmr33/saved_array_masks/mask_505.png'}, {'image': '/tmp/tmpu42vmr33/saved_array_images/image_506.png', 'label': '/tmp/tmpu42vmr33/saved_array_masks/mask_506.png'}, {'image': '/tmp/tmpu42vmr33/saved_array_images/image_507.png', 'label': '/tmp/tmpu42vmr33/saved_array_masks/mask_507.png'}, {'image': '/tmp/tmpu42vmr33/saved_array_images/image_508.png', 'label': '/tmp/tmpu42vmr33/saved_array_masks/mask_508.png'}, {'image': '/tmp/tmpu42vmr33/saved_array_images/image_509.png', 'label': '/tmp/tmpu42vmr33/saved_array_masks/mask_509.png'}, {'image': '/tmp/tmpu42vmr33/saved_array_images/image_510.png', 'label': '/tmp/tmpu42vmr33/saved_array_masks/mask_510.png'}, {'image': '/tmp/tmpu42vmr33/saved_array_images/image_513.png', 'label': '/tmp/tmpu42vmr33/saved_array_masks/mask_513.png'}, {'image': '/tmp/tmpu42vmr33/saved_array_images/image_516.png', 'label': '/tmp/tmpu42vmr33/saved_array_masks/mask_516.png'}, {'image': '/tmp/tmpu42vmr33/saved_array_images/image_517.png', 'label': '/tmp/tmpu42vmr33/saved_array_masks/mask_517.png'}, {'image': '/tmp/tmpu42vmr33/saved_array_images/image_519.png', 'label': '/tmp/tmpu42vmr33/saved_array_masks/mask_519.png'}, {'image': '/tmp/tmpu42vmr33/saved_array_images/image_52.png', 'label': '/tmp/tmpu42vmr33/saved_array_masks/mask_52.png'}, {'image': '/tmp/tmpu42vmr33/saved_array_images/image_520.png', 'label': '/tmp/tmpu42vmr33/saved_array_masks/mask_520.png'}, {'image': '/tmp/tmpu42vmr33/saved_array_images/image_521.png', 'label': '/tmp/tmpu42vmr33/saved_array_masks/mask_521.png'}, {'image': '/tmp/tmpu42vmr33/saved_array_images/image_522.png', 'label': '/tmp/tmpu42vmr33/saved_array_masks/mask_522.png'}, {'image': '/tmp/tmpu42vmr33/saved_array_images/image_524.png', 'label': '/tmp/tmpu42vmr33/saved_array_masks/mask_524.png'}, {'image': '/tmp/tmpu42vmr33/saved_array_images/image_526.png', 'label': '/tmp/tmpu42vmr33/saved_array_masks/mask_526.png'}, {'image': '/tmp/tmpu42vmr33/saved_array_images/image_527.png', 'label': '/tmp/tmpu42vmr33/saved_array_masks/mask_527.png'}, {'image': '/tmp/tmpu42vmr33/saved_array_images/image_528.png', 'label': '/tmp/tmpu42vmr33/saved_array_masks/mask_528.png'}, {'image': '/tmp/tmpu42vmr33/saved_array_images/image_53.png', 'label': '/tmp/tmpu42vmr33/saved_array_masks/mask_53.png'}, {'image': '/tmp/tmpu42vmr33/saved_array_images/image_530.png', 'label': '/tmp/tmpu42vmr33/saved_array_masks/mask_530.png'}, {'image': '/tmp/tmpu42vmr33/saved_array_images/image_533.png', 'label': '/tmp/tmpu42vmr33/saved_array_masks/mask_533.png'}, {'image': '/tmp/tmpu42vmr33/saved_array_images/image_534.png', 'label': '/tmp/tmpu42vmr33/saved_array_masks/mask_534.png'}, {'image': '/tmp/tmpu42vmr33/saved_array_images/image_536.png', 'label': '/tmp/tmpu42vmr33/saved_array_masks/mask_536.png'}, {'image': '/tmp/tmpu42vmr33/saved_array_images/image_537.png', 'label': '/tmp/tmpu42vmr33/saved_array_masks/mask_537.png'}, {'image': '/tmp/tmpu42vmr33/saved_array_images/image_538.png', 'label': '/tmp/tmpu42vmr33/saved_array_masks/mask_538.png'}, {'image': '/tmp/tmpu42vmr33/saved_array_images/image_539.png', 'label': '/tmp/tmpu42vmr33/saved_array_masks/mask_539.png'}, {'image': '/tmp/tmpu42vmr33/saved_array_images/image_54.png', 'label': '/tmp/tmpu42vmr33/saved_array_masks/mask_54.png'}, {'image': '/tmp/tmpu42vmr33/saved_array_images/image_540.png', 'label': '/tmp/tmpu42vmr33/saved_array_masks/mask_540.png'}, {'image': '/tmp/tmpu42vmr33/saved_array_images/image_541.png', 'label': '/tmp/tmpu42vmr33/saved_array_masks/mask_541.png'}, {'image': '/tmp/tmpu42vmr33/saved_array_images/image_543.png', 'label': '/tmp/tmpu42vmr33/saved_array_masks/mask_543.png'}, {'image': '/tmp/tmpu42vmr33/saved_array_images/image_545.png', 'label': '/tmp/tmpu42vmr33/saved_array_masks/mask_545.png'}, {'image': '/tmp/tmpu42vmr33/saved_array_images/image_546.png', 'label': '/tmp/tmpu42vmr33/saved_array_masks/mask_546.png'}, {'image': '/tmp/tmpu42vmr33/saved_array_images/image_547.png', 'label': '/tmp/tmpu42vmr33/saved_array_masks/mask_547.png'}, {'image': '/tmp/tmpu42vmr33/saved_array_images/image_550.png', 'label': '/tmp/tmpu42vmr33/saved_array_masks/mask_550.png'}, {'image': '/tmp/tmpu42vmr33/saved_array_images/image_553.png', 'label': '/tmp/tmpu42vmr33/saved_array_masks/mask_553.png'}, {'image': '/tmp/tmpu42vmr33/saved_array_images/image_554.png', 'label': '/tmp/tmpu42vmr33/saved_array_masks/mask_554.png'}, {'image': '/tmp/tmpu42vmr33/saved_array_images/image_555.png', 'label': '/tmp/tmpu42vmr33/saved_array_masks/mask_555.png'}, {'image': '/tmp/tmpu42vmr33/saved_array_images/image_556.png', 'label': '/tmp/tmpu42vmr33/saved_array_masks/mask_556.png'}, {'image': '/tmp/tmpu42vmr33/saved_array_images/image_557.png', 'label': '/tmp/tmpu42vmr33/saved_array_masks/mask_557.png'}, {'image': '/tmp/tmpu42vmr33/saved_array_images/image_56.png', 'label': '/tmp/tmpu42vmr33/saved_array_masks/mask_56.png'}, {'image': '/tmp/tmpu42vmr33/saved_array_images/image_560.png', 'label': '/tmp/tmpu42vmr33/saved_array_masks/mask_560.png'}, {'image': '/tmp/tmpu42vmr33/saved_array_images/image_562.png', 'label': '/tmp/tmpu42vmr33/saved_array_masks/mask_562.png'}, {'image': '/tmp/tmpu42vmr33/saved_array_images/image_563.png', 'label': '/tmp/tmpu42vmr33/saved_array_masks/mask_563.png'}, {'image': '/tmp/tmpu42vmr33/saved_array_images/image_564.png', 'label': '/tmp/tmpu42vmr33/saved_array_masks/mask_564.png'}, {'image': '/tmp/tmpu42vmr33/saved_array_images/image_565.png', 'label': '/tmp/tmpu42vmr33/saved_array_masks/mask_565.png'}, {'image': '/tmp/tmpu42vmr33/saved_array_images/image_569.png', 'label': '/tmp/tmpu42vmr33/saved_array_masks/mask_569.png'}, {'image': '/tmp/tmpu42vmr33/saved_array_images/image_57.png', 'label': '/tmp/tmpu42vmr33/saved_array_masks/mask_57.png'}, {'image': '/tmp/tmpu42vmr33/saved_array_images/image_570.png', 'label': '/tmp/tmpu42vmr33/saved_array_masks/mask_570.png'}, {'image': '/tmp/tmpu42vmr33/saved_array_images/image_571.png', 'label': '/tmp/tmpu42vmr33/saved_array_masks/mask_571.png'}, {'image': '/tmp/tmpu42vmr33/saved_array_images/image_572.png', 'label': '/tmp/tmpu42vmr33/saved_array_masks/mask_572.png'}, {'image': '/tmp/tmpu42vmr33/saved_array_images/image_573.png', 'label': '/tmp/tmpu42vmr33/saved_array_masks/mask_573.png'}, {'image': '/tmp/tmpu42vmr33/saved_array_images/image_575.png', 'label': '/tmp/tmpu42vmr33/saved_array_masks/mask_575.png'}, {'image': '/tmp/tmpu42vmr33/saved_array_images/image_576.png', 'label': '/tmp/tmpu42vmr33/saved_array_masks/mask_576.png'}, {'image': '/tmp/tmpu42vmr33/saved_array_images/image_577.png', 'label': '/tmp/tmpu42vmr33/saved_array_masks/mask_577.png'}, {'image': '/tmp/tmpu42vmr33/saved_array_images/image_579.png', 'label': '/tmp/tmpu42vmr33/saved_array_masks/mask_579.png'}, {'image': '/tmp/tmpu42vmr33/saved_array_images/image_58.png', 'label': '/tmp/tmpu42vmr33/saved_array_masks/mask_58.png'}, {'image': '/tmp/tmpu42vmr33/saved_array_images/image_580.png', 'label': '/tmp/tmpu42vmr33/saved_array_masks/mask_580.png'}, {'image': '/tmp/tmpu42vmr33/saved_array_images/image_581.png', 'label': '/tmp/tmpu42vmr33/saved_array_masks/mask_581.png'}, {'image': '/tmp/tmpu42vmr33/saved_array_images/image_582.png', 'label': '/tmp/tmpu42vmr33/saved_array_masks/mask_582.png'}, {'image': '/tmp/tmpu42vmr33/saved_array_images/image_583.png', 'label': '/tmp/tmpu42vmr33/saved_array_masks/mask_583.png'}, {'image': '/tmp/tmpu42vmr33/saved_array_images/image_584.png', 'label': '/tmp/tmpu42vmr33/saved_array_masks/mask_584.png'}, {'image': '/tmp/tmpu42vmr33/saved_array_images/image_585.png', 'label': '/tmp/tmpu42vmr33/saved_array_masks/mask_585.png'}, {'image': '/tmp/tmpu42vmr33/saved_array_images/image_586.png', 'label': '/tmp/tmpu42vmr33/saved_array_masks/mask_586.png'}, {'image': '/tmp/tmpu42vmr33/saved_array_images/image_587.png', 'label': '/tmp/tmpu42vmr33/saved_array_masks/mask_587.png'}, {'image': '/tmp/tmpu42vmr33/saved_array_images/image_59.png', 'label': '/tmp/tmpu42vmr33/saved_array_masks/mask_59.png'}, {'image': '/tmp/tmpu42vmr33/saved_array_images/image_591.png', 'label': '/tmp/tmpu42vmr33/saved_array_masks/mask_591.png'}, {'image': '/tmp/tmpu42vmr33/saved_array_images/image_592.png', 'label': '/tmp/tmpu42vmr33/saved_array_masks/mask_592.png'}, {'image': '/tmp/tmpu42vmr33/saved_array_images/image_594.png', 'label': '/tmp/tmpu42vmr33/saved_array_masks/mask_594.png'}, {'image': '/tmp/tmpu42vmr33/saved_array_images/image_596.png', 'label': '/tmp/tmpu42vmr33/saved_array_masks/mask_596.png'}, {'image': '/tmp/tmpu42vmr33/saved_array_images/image_597.png', 'label': '/tmp/tmpu42vmr33/saved_array_masks/mask_597.png'}, {'image': '/tmp/tmpu42vmr33/saved_array_images/image_598.png', 'label': '/tmp/tmpu42vmr33/saved_array_masks/mask_598.png'}, {'image': '/tmp/tmpu42vmr33/saved_array_images/image_599.png', 'label': '/tmp/tmpu42vmr33/saved_array_masks/mask_599.png'}, {'image': '/tmp/tmpu42vmr33/saved_array_images/image_60.png', 'label': '/tmp/tmpu42vmr33/saved_array_masks/mask_60.png'}, {'image': '/tmp/tmpu42vmr33/saved_array_images/image_600.png', 'label': '/tmp/tmpu42vmr33/saved_array_masks/mask_600.png'}, {'image': '/tmp/tmpu42vmr33/saved_array_images/image_601.png', 'label': '/tmp/tmpu42vmr33/saved_array_masks/mask_601.png'}, {'image': '/tmp/tmpu42vmr33/saved_array_images/image_602.png', 'label': '/tmp/tmpu42vmr33/saved_array_masks/mask_602.png'}, {'image': '/tmp/tmpu42vmr33/saved_array_images/image_604.png', 'label': '/tmp/tmpu42vmr33/saved_array_masks/mask_604.png'}, {'image': '/tmp/tmpu42vmr33/saved_array_images/image_605.png', 'label': '/tmp/tmpu42vmr33/saved_array_masks/mask_605.png'}, {'image': '/tmp/tmpu42vmr33/saved_array_images/image_607.png', 'label': '/tmp/tmpu42vmr33/saved_array_masks/mask_607.png'}, {'image': '/tmp/tmpu42vmr33/saved_array_images/image_608.png', 'label': '/tmp/tmpu42vmr33/saved_array_masks/mask_608.png'}, {'image': '/tmp/tmpu42vmr33/saved_array_images/image_61.png', 'label': '/tmp/tmpu42vmr33/saved_array_masks/mask_61.png'}, {'image': '/tmp/tmpu42vmr33/saved_array_images/image_610.png', 'label': '/tmp/tmpu42vmr33/saved_array_masks/mask_610.png'}, {'image': '/tmp/tmpu42vmr33/saved_array_images/image_611.png', 'label': '/tmp/tmpu42vmr33/saved_array_masks/mask_611.png'}, {'image': '/tmp/tmpu42vmr33/saved_array_images/image_612.png', 'label': '/tmp/tmpu42vmr33/saved_array_masks/mask_612.png'}, {'image': '/tmp/tmpu42vmr33/saved_array_images/image_613.png', 'label': '/tmp/tmpu42vmr33/saved_array_masks/mask_613.png'}, {'image': '/tmp/tmpu42vmr33/saved_array_images/image_614.png', 'label': '/tmp/tmpu42vmr33/saved_array_masks/mask_614.png'}, {'image': '/tmp/tmpu42vmr33/saved_array_images/image_615.png', 'label': '/tmp/tmpu42vmr33/saved_array_masks/mask_615.png'}, {'image': '/tmp/tmpu42vmr33/saved_array_images/image_616.png', 'label': '/tmp/tmpu42vmr33/saved_array_masks/mask_616.png'}, {'image': '/tmp/tmpu42vmr33/saved_array_images/image_617.png', 'label': '/tmp/tmpu42vmr33/saved_array_masks/mask_617.png'}, {'image': '/tmp/tmpu42vmr33/saved_array_images/image_618.png', 'label': '/tmp/tmpu42vmr33/saved_array_masks/mask_618.png'}, {'image': '/tmp/tmpu42vmr33/saved_array_images/image_62.png', 'label': '/tmp/tmpu42vmr33/saved_array_masks/mask_62.png'}, {'image': '/tmp/tmpu42vmr33/saved_array_images/image_621.png', 'label': '/tmp/tmpu42vmr33/saved_array_masks/mask_621.png'}, {'image': '/tmp/tmpu42vmr33/saved_array_images/image_622.png', 'label': '/tmp/tmpu42vmr33/saved_array_masks/mask_622.png'}, {'image': '/tmp/tmpu42vmr33/saved_array_images/image_623.png', 'label': '/tmp/tmpu42vmr33/saved_array_masks/mask_623.png'}, {'image': '/tmp/tmpu42vmr33/saved_array_images/image_625.png', 'label': '/tmp/tmpu42vmr33/saved_array_masks/mask_625.png'}, {'image': '/tmp/tmpu42vmr33/saved_array_images/image_630.png', 'label': '/tmp/tmpu42vmr33/saved_array_masks/mask_630.png'}, {'image': '/tmp/tmpu42vmr33/saved_array_images/image_631.png', 'label': '/tmp/tmpu42vmr33/saved_array_masks/mask_631.png'}, {'image': '/tmp/tmpu42vmr33/saved_array_images/image_633.png', 'label': '/tmp/tmpu42vmr33/saved_array_masks/mask_633.png'}, {'image': '/tmp/tmpu42vmr33/saved_array_images/image_635.png', 'label': '/tmp/tmpu42vmr33/saved_array_masks/mask_635.png'}, {'image': '/tmp/tmpu42vmr33/saved_array_images/image_636.png', 'label': '/tmp/tmpu42vmr33/saved_array_masks/mask_636.png'}, {'image': '/tmp/tmpu42vmr33/saved_array_images/image_638.png', 'label': '/tmp/tmpu42vmr33/saved_array_masks/mask_638.png'}, {'image': '/tmp/tmpu42vmr33/saved_array_images/image_639.png', 'label': '/tmp/tmpu42vmr33/saved_array_masks/mask_639.png'}, {'image': '/tmp/tmpu42vmr33/saved_array_images/image_64.png', 'label': '/tmp/tmpu42vmr33/saved_array_masks/mask_64.png'}, {'image': '/tmp/tmpu42vmr33/saved_array_images/image_641.png', 'label': '/tmp/tmpu42vmr33/saved_array_masks/mask_641.png'}, {'image': '/tmp/tmpu42vmr33/saved_array_images/image_642.png', 'label': '/tmp/tmpu42vmr33/saved_array_masks/mask_642.png'}, {'image': '/tmp/tmpu42vmr33/saved_array_images/image_643.png', 'label': '/tmp/tmpu42vmr33/saved_array_masks/mask_643.png'}, {'image': '/tmp/tmpu42vmr33/saved_array_images/image_644.png', 'label': '/tmp/tmpu42vmr33/saved_array_masks/mask_644.png'}, {'image': '/tmp/tmpu42vmr33/saved_array_images/image_646.png', 'label': '/tmp/tmpu42vmr33/saved_array_masks/mask_646.png'}, {'image': '/tmp/tmpu42vmr33/saved_array_images/image_647.png', 'label': '/tmp/tmpu42vmr33/saved_array_masks/mask_647.png'}, {'image': '/tmp/tmpu42vmr33/saved_array_images/image_648.png', 'label': '/tmp/tmpu42vmr33/saved_array_masks/mask_648.png'}, {'image': '/tmp/tmpu42vmr33/saved_array_images/image_65.png', 'label': '/tmp/tmpu42vmr33/saved_array_masks/mask_65.png'}, {'image': '/tmp/tmpu42vmr33/saved_array_images/image_650.png', 'label': '/tmp/tmpu42vmr33/saved_array_masks/mask_650.png'}, {'image': '/tmp/tmpu42vmr33/saved_array_images/image_651.png', 'label': '/tmp/tmpu42vmr33/saved_array_masks/mask_651.png'}, {'image': '/tmp/tmpu42vmr33/saved_array_images/image_654.png', 'label': '/tmp/tmpu42vmr33/saved_array_masks/mask_654.png'}, {'image': '/tmp/tmpu42vmr33/saved_array_images/image_658.png', 'label': '/tmp/tmpu42vmr33/saved_array_masks/mask_658.png'}, {'image': '/tmp/tmpu42vmr33/saved_array_images/image_659.png', 'label': '/tmp/tmpu42vmr33/saved_array_masks/mask_659.png'}, {'image': '/tmp/tmpu42vmr33/saved_array_images/image_660.png', 'label': '/tmp/tmpu42vmr33/saved_array_masks/mask_660.png'}, {'image': '/tmp/tmpu42vmr33/saved_array_images/image_661.png', 'label': '/tmp/tmpu42vmr33/saved_array_masks/mask_661.png'}, {'image': '/tmp/tmpu42vmr33/saved_array_images/image_662.png', 'label': '/tmp/tmpu42vmr33/saved_array_masks/mask_662.png'}, {'image': '/tmp/tmpu42vmr33/saved_array_images/image_664.png', 'label': '/tmp/tmpu42vmr33/saved_array_masks/mask_664.png'}, {'image': '/tmp/tmpu42vmr33/saved_array_images/image_665.png', 'label': '/tmp/tmpu42vmr33/saved_array_masks/mask_665.png'}, {'image': '/tmp/tmpu42vmr33/saved_array_images/image_667.png', 'label': '/tmp/tmpu42vmr33/saved_array_masks/mask_667.png'}, {'image': '/tmp/tmpu42vmr33/saved_array_images/image_668.png', 'label': '/tmp/tmpu42vmr33/saved_array_masks/mask_668.png'}, {'image': '/tmp/tmpu42vmr33/saved_array_images/image_69.png', 'label': '/tmp/tmpu42vmr33/saved_array_masks/mask_69.png'}, {'image': '/tmp/tmpu42vmr33/saved_array_images/image_7.png', 'label': '/tmp/tmpu42vmr33/saved_array_masks/mask_7.png'}, {'image': '/tmp/tmpu42vmr33/saved_array_images/image_72.png', 'label': '/tmp/tmpu42vmr33/saved_array_masks/mask_72.png'}, {'image': '/tmp/tmpu42vmr33/saved_array_images/image_75.png', 'label': '/tmp/tmpu42vmr33/saved_array_masks/mask_75.png'}, {'image': '/tmp/tmpu42vmr33/saved_array_images/image_76.png', 'label': '/tmp/tmpu42vmr33/saved_array_masks/mask_76.png'}, {'image': '/tmp/tmpu42vmr33/saved_array_images/image_77.png', 'label': '/tmp/tmpu42vmr33/saved_array_masks/mask_77.png'}, {'image': '/tmp/tmpu42vmr33/saved_array_images/image_78.png', 'label': '/tmp/tmpu42vmr33/saved_array_masks/mask_78.png'}, {'image': '/tmp/tmpu42vmr33/saved_array_images/image_80.png', 'label': '/tmp/tmpu42vmr33/saved_array_masks/mask_80.png'}, {'image': '/tmp/tmpu42vmr33/saved_array_images/image_81.png', 'label': '/tmp/tmpu42vmr33/saved_array_masks/mask_81.png'}, {'image': '/tmp/tmpu42vmr33/saved_array_images/image_82.png', 'label': '/tmp/tmpu42vmr33/saved_array_masks/mask_82.png'}, {'image': '/tmp/tmpu42vmr33/saved_array_images/image_84.png', 'label': '/tmp/tmpu42vmr33/saved_array_masks/mask_84.png'}, {'image': '/tmp/tmpu42vmr33/saved_array_images/image_85.png', 'label': '/tmp/tmpu42vmr33/saved_array_masks/mask_85.png'}, {'image': '/tmp/tmpu42vmr33/saved_array_images/image_86.png', 'label': '/tmp/tmpu42vmr33/saved_array_masks/mask_86.png'}, {'image': '/tmp/tmpu42vmr33/saved_array_images/image_87.png', 'label': '/tmp/tmpu42vmr33/saved_array_masks/mask_87.png'}, {'image': '/tmp/tmpu42vmr33/saved_array_images/image_88.png', 'label': '/tmp/tmpu42vmr33/saved_array_masks/mask_88.png'}, {'image': '/tmp/tmpu42vmr33/saved_array_images/image_9.png', 'label': '/tmp/tmpu42vmr33/saved_array_masks/mask_9.png'}, {'image': '/tmp/tmpu42vmr33/saved_array_images/image_91.png', 'label': '/tmp/tmpu42vmr33/saved_array_masks/mask_91.png'}, {'image': '/tmp/tmpu42vmr33/saved_array_images/image_92.png', 'label': '/tmp/tmpu42vmr33/saved_array_masks/mask_92.png'}, {'image': '/tmp/tmpu42vmr33/saved_array_images/image_93.png', 'label': '/tmp/tmpu42vmr33/saved_array_masks/mask_93.png'}, {'image': '/tmp/tmpu42vmr33/saved_array_images/image_97.png', 'label': '/tmp/tmpu42vmr33/saved_array_masks/mask_97.png'}, {'image': '/tmp/tmpu42vmr33/saved_array_images/image_99.png', 'label': '/tmp/tmpu42vmr33/saved_array_masks/mask_99.png'}]\n",
            "validating data: [{'image': '/tmp/tmpu42vmr33/saved_array_images/image_190.png', 'label': '/tmp/tmpu42vmr33/saved_array_masks/mask_190.png'}, {'image': '/tmp/tmpu42vmr33/saved_array_images/image_669.png', 'label': '/tmp/tmpu42vmr33/saved_array_masks/mask_669.png'}, {'image': '/tmp/tmpu42vmr33/saved_array_images/image_497.png', 'label': '/tmp/tmpu42vmr33/saved_array_masks/mask_497.png'}, {'image': '/tmp/tmpu42vmr33/saved_array_images/image_163.png', 'label': '/tmp/tmpu42vmr33/saved_array_masks/mask_163.png'}, {'image': '/tmp/tmpu42vmr33/saved_array_images/image_624.png', 'label': '/tmp/tmpu42vmr33/saved_array_masks/mask_624.png'}, {'image': '/tmp/tmpu42vmr33/saved_array_images/image_129.png', 'label': '/tmp/tmpu42vmr33/saved_array_masks/mask_129.png'}, {'image': '/tmp/tmpu42vmr33/saved_array_images/image_652.png', 'label': '/tmp/tmpu42vmr33/saved_array_masks/mask_652.png'}, {'image': '/tmp/tmpu42vmr33/saved_array_images/image_63.png', 'label': '/tmp/tmpu42vmr33/saved_array_masks/mask_63.png'}, {'image': '/tmp/tmpu42vmr33/saved_array_images/image_396.png', 'label': '/tmp/tmpu42vmr33/saved_array_masks/mask_396.png'}, {'image': '/tmp/tmpu42vmr33/saved_array_images/image_425.png', 'label': '/tmp/tmpu42vmr33/saved_array_masks/mask_425.png'}, {'image': '/tmp/tmpu42vmr33/saved_array_images/image_408.png', 'label': '/tmp/tmpu42vmr33/saved_array_masks/mask_408.png'}, {'image': '/tmp/tmpu42vmr33/saved_array_images/image_272.png', 'label': '/tmp/tmpu42vmr33/saved_array_masks/mask_272.png'}, {'image': '/tmp/tmpu42vmr33/saved_array_images/image_286.png', 'label': '/tmp/tmpu42vmr33/saved_array_masks/mask_286.png'}, {'image': '/tmp/tmpu42vmr33/saved_array_images/image_107.png', 'label': '/tmp/tmpu42vmr33/saved_array_masks/mask_107.png'}, {'image': '/tmp/tmpu42vmr33/saved_array_images/image_384.png', 'label': '/tmp/tmpu42vmr33/saved_array_masks/mask_384.png'}, {'image': '/tmp/tmpu42vmr33/saved_array_images/image_149.png', 'label': '/tmp/tmpu42vmr33/saved_array_masks/mask_149.png'}, {'image': '/tmp/tmpu42vmr33/saved_array_images/image_511.png', 'label': '/tmp/tmpu42vmr33/saved_array_masks/mask_511.png'}, {'image': '/tmp/tmpu42vmr33/saved_array_images/image_207.png', 'label': '/tmp/tmpu42vmr33/saved_array_masks/mask_207.png'}, {'image': '/tmp/tmpu42vmr33/saved_array_images/image_100.png', 'label': '/tmp/tmpu42vmr33/saved_array_masks/mask_100.png'}, {'image': '/tmp/tmpu42vmr33/saved_array_images/image_470.png', 'label': '/tmp/tmpu42vmr33/saved_array_masks/mask_470.png'}, {'image': '/tmp/tmpu42vmr33/saved_array_images/image_383.png', 'label': '/tmp/tmpu42vmr33/saved_array_masks/mask_383.png'}, {'image': '/tmp/tmpu42vmr33/saved_array_images/image_566.png', 'label': '/tmp/tmpu42vmr33/saved_array_masks/mask_566.png'}, {'image': '/tmp/tmpu42vmr33/saved_array_images/image_55.png', 'label': '/tmp/tmpu42vmr33/saved_array_masks/mask_55.png'}, {'image': '/tmp/tmpu42vmr33/saved_array_images/image_303.png', 'label': '/tmp/tmpu42vmr33/saved_array_masks/mask_303.png'}, {'image': '/tmp/tmpu42vmr33/saved_array_images/image_437.png', 'label': '/tmp/tmpu42vmr33/saved_array_masks/mask_437.png'}, {'image': '/tmp/tmpu42vmr33/saved_array_images/image_375.png', 'label': '/tmp/tmpu42vmr33/saved_array_masks/mask_375.png'}, {'image': '/tmp/tmpu42vmr33/saved_array_images/image_346.png', 'label': '/tmp/tmpu42vmr33/saved_array_masks/mask_346.png'}, {'image': '/tmp/tmpu42vmr33/saved_array_images/image_628.png', 'label': '/tmp/tmpu42vmr33/saved_array_masks/mask_628.png'}, {'image': '/tmp/tmpu42vmr33/saved_array_images/image_326.png', 'label': '/tmp/tmpu42vmr33/saved_array_masks/mask_326.png'}, {'image': '/tmp/tmpu42vmr33/saved_array_images/image_603.png', 'label': '/tmp/tmpu42vmr33/saved_array_masks/mask_603.png'}, {'image': '/tmp/tmpu42vmr33/saved_array_images/image_128.png', 'label': '/tmp/tmpu42vmr33/saved_array_masks/mask_128.png'}, {'image': '/tmp/tmpu42vmr33/saved_array_images/image_253.png', 'label': '/tmp/tmpu42vmr33/saved_array_masks/mask_253.png'}, {'image': '/tmp/tmpu42vmr33/saved_array_images/image_122.png', 'label': '/tmp/tmpu42vmr33/saved_array_masks/mask_122.png'}, {'image': '/tmp/tmpu42vmr33/saved_array_images/image_366.png', 'label': '/tmp/tmpu42vmr33/saved_array_masks/mask_366.png'}, {'image': '/tmp/tmpu42vmr33/saved_array_images/image_590.png', 'label': '/tmp/tmpu42vmr33/saved_array_masks/mask_590.png'}, {'image': '/tmp/tmpu42vmr33/saved_array_images/image_199.png', 'label': '/tmp/tmpu42vmr33/saved_array_masks/mask_199.png'}, {'image': '/tmp/tmpu42vmr33/saved_array_images/image_279.png', 'label': '/tmp/tmpu42vmr33/saved_array_masks/mask_279.png'}, {'image': '/tmp/tmpu42vmr33/saved_array_images/image_316.png', 'label': '/tmp/tmpu42vmr33/saved_array_masks/mask_316.png'}, {'image': '/tmp/tmpu42vmr33/saved_array_images/image_164.png', 'label': '/tmp/tmpu42vmr33/saved_array_masks/mask_164.png'}, {'image': '/tmp/tmpu42vmr33/saved_array_images/image_195.png', 'label': '/tmp/tmpu42vmr33/saved_array_masks/mask_195.png'}, {'image': '/tmp/tmpu42vmr33/saved_array_images/image_168.png', 'label': '/tmp/tmpu42vmr33/saved_array_masks/mask_168.png'}, {'image': '/tmp/tmpu42vmr33/saved_array_images/image_236.png', 'label': '/tmp/tmpu42vmr33/saved_array_masks/mask_236.png'}, {'image': '/tmp/tmpu42vmr33/saved_array_images/image_503.png', 'label': '/tmp/tmpu42vmr33/saved_array_masks/mask_503.png'}, {'image': '/tmp/tmpu42vmr33/saved_array_images/image_268.png', 'label': '/tmp/tmpu42vmr33/saved_array_masks/mask_268.png'}, {'image': '/tmp/tmpu42vmr33/saved_array_images/image_187.png', 'label': '/tmp/tmpu42vmr33/saved_array_masks/mask_187.png'}, {'image': '/tmp/tmpu42vmr33/saved_array_images/image_558.png', 'label': '/tmp/tmpu42vmr33/saved_array_masks/mask_558.png'}, {'image': '/tmp/tmpu42vmr33/saved_array_images/image_500.png', 'label': '/tmp/tmpu42vmr33/saved_array_masks/mask_500.png'}, {'image': '/tmp/tmpu42vmr33/saved_array_images/image_382.png', 'label': '/tmp/tmpu42vmr33/saved_array_masks/mask_382.png'}, {'image': '/tmp/tmpu42vmr33/saved_array_images/image_495.png', 'label': '/tmp/tmpu42vmr33/saved_array_masks/mask_495.png'}, {'image': '/tmp/tmpu42vmr33/saved_array_images/image_512.png', 'label': '/tmp/tmpu42vmr33/saved_array_masks/mask_512.png'}, {'image': '/tmp/tmpu42vmr33/saved_array_images/image_489.png', 'label': '/tmp/tmpu42vmr33/saved_array_masks/mask_489.png'}, {'image': '/tmp/tmpu42vmr33/saved_array_images/image_267.png', 'label': '/tmp/tmpu42vmr33/saved_array_masks/mask_267.png'}, {'image': '/tmp/tmpu42vmr33/saved_array_images/image_634.png', 'label': '/tmp/tmpu42vmr33/saved_array_masks/mask_634.png'}, {'image': '/tmp/tmpu42vmr33/saved_array_images/image_13.png', 'label': '/tmp/tmpu42vmr33/saved_array_masks/mask_13.png'}, {'image': '/tmp/tmpu42vmr33/saved_array_images/image_175.png', 'label': '/tmp/tmpu42vmr33/saved_array_masks/mask_175.png'}, {'image': '/tmp/tmpu42vmr33/saved_array_images/image_429.png', 'label': '/tmp/tmpu42vmr33/saved_array_masks/mask_429.png'}, {'image': '/tmp/tmpu42vmr33/saved_array_images/image_525.png', 'label': '/tmp/tmpu42vmr33/saved_array_masks/mask_525.png'}, {'image': '/tmp/tmpu42vmr33/saved_array_images/image_338.png', 'label': '/tmp/tmpu42vmr33/saved_array_masks/mask_338.png'}, {'image': '/tmp/tmpu42vmr33/saved_array_images/image_43.png', 'label': '/tmp/tmpu42vmr33/saved_array_masks/mask_43.png'}, {'image': '/tmp/tmpu42vmr33/saved_array_images/image_473.png', 'label': '/tmp/tmpu42vmr33/saved_array_masks/mask_473.png'}, {'image': '/tmp/tmpu42vmr33/saved_array_images/image_549.png', 'label': '/tmp/tmpu42vmr33/saved_array_masks/mask_549.png'}, {'image': '/tmp/tmpu42vmr33/saved_array_images/image_317.png', 'label': '/tmp/tmpu42vmr33/saved_array_masks/mask_317.png'}, {'image': '/tmp/tmpu42vmr33/saved_array_images/image_656.png', 'label': '/tmp/tmpu42vmr33/saved_array_masks/mask_656.png'}, {'image': '/tmp/tmpu42vmr33/saved_array_images/image_629.png', 'label': '/tmp/tmpu42vmr33/saved_array_masks/mask_629.png'}, {'image': '/tmp/tmpu42vmr33/saved_array_images/image_1.png', 'label': '/tmp/tmpu42vmr33/saved_array_masks/mask_1.png'}, {'image': '/tmp/tmpu42vmr33/saved_array_images/image_523.png', 'label': '/tmp/tmpu42vmr33/saved_array_masks/mask_523.png'}, {'image': '/tmp/tmpu42vmr33/saved_array_images/image_134.png', 'label': '/tmp/tmpu42vmr33/saved_array_masks/mask_134.png'}, {'image': '/tmp/tmpu42vmr33/saved_array_images/image_578.png', 'label': '/tmp/tmpu42vmr33/saved_array_masks/mask_578.png'}, {'image': '/tmp/tmpu42vmr33/saved_array_images/image_158.png', 'label': '/tmp/tmpu42vmr33/saved_array_masks/mask_158.png'}, {'image': '/tmp/tmpu42vmr33/saved_array_images/image_337.png', 'label': '/tmp/tmpu42vmr33/saved_array_masks/mask_337.png'}, {'image': '/tmp/tmpu42vmr33/saved_array_images/image_331.png', 'label': '/tmp/tmpu42vmr33/saved_array_masks/mask_331.png'}, {'image': '/tmp/tmpu42vmr33/saved_array_images/image_67.png', 'label': '/tmp/tmpu42vmr33/saved_array_masks/mask_67.png'}, {'image': '/tmp/tmpu42vmr33/saved_array_images/image_96.png', 'label': '/tmp/tmpu42vmr33/saved_array_masks/mask_96.png'}, {'image': '/tmp/tmpu42vmr33/saved_array_images/image_83.png', 'label': '/tmp/tmpu42vmr33/saved_array_masks/mask_83.png'}, {'image': '/tmp/tmpu42vmr33/saved_array_images/image_19.png', 'label': '/tmp/tmpu42vmr33/saved_array_masks/mask_19.png'}, {'image': '/tmp/tmpu42vmr33/saved_array_images/image_481.png', 'label': '/tmp/tmpu42vmr33/saved_array_masks/mask_481.png'}, {'image': '/tmp/tmpu42vmr33/saved_array_images/image_387.png', 'label': '/tmp/tmpu42vmr33/saved_array_masks/mask_387.png'}, {'image': '/tmp/tmpu42vmr33/saved_array_images/image_422.png', 'label': '/tmp/tmpu42vmr33/saved_array_masks/mask_422.png'}, {'image': '/tmp/tmpu42vmr33/saved_array_images/image_561.png', 'label': '/tmp/tmpu42vmr33/saved_array_masks/mask_561.png'}, {'image': '/tmp/tmpu42vmr33/saved_array_images/image_494.png', 'label': '/tmp/tmpu42vmr33/saved_array_masks/mask_494.png'}, {'image': '/tmp/tmpu42vmr33/saved_array_images/image_154.png', 'label': '/tmp/tmpu42vmr33/saved_array_masks/mask_154.png'}, {'image': '/tmp/tmpu42vmr33/saved_array_images/image_515.png', 'label': '/tmp/tmpu42vmr33/saved_array_masks/mask_515.png'}, {'image': '/tmp/tmpu42vmr33/saved_array_images/image_574.png', 'label': '/tmp/tmpu42vmr33/saved_array_masks/mask_574.png'}, {'image': '/tmp/tmpu42vmr33/saved_array_images/image_649.png', 'label': '/tmp/tmpu42vmr33/saved_array_masks/mask_649.png'}, {'image': '/tmp/tmpu42vmr33/saved_array_images/image_143.png', 'label': '/tmp/tmpu42vmr33/saved_array_masks/mask_143.png'}, {'image': '/tmp/tmpu42vmr33/saved_array_images/image_498.png', 'label': '/tmp/tmpu42vmr33/saved_array_masks/mask_498.png'}, {'image': '/tmp/tmpu42vmr33/saved_array_images/image_35.png', 'label': '/tmp/tmpu42vmr33/saved_array_masks/mask_35.png'}, {'image': '/tmp/tmpu42vmr33/saved_array_images/image_620.png', 'label': '/tmp/tmpu42vmr33/saved_array_masks/mask_620.png'}, {'image': '/tmp/tmpu42vmr33/saved_array_images/image_627.png', 'label': '/tmp/tmpu42vmr33/saved_array_masks/mask_627.png'}, {'image': '/tmp/tmpu42vmr33/saved_array_images/image_188.png', 'label': '/tmp/tmpu42vmr33/saved_array_masks/mask_188.png'}, {'image': '/tmp/tmpu42vmr33/saved_array_images/image_471.png', 'label': '/tmp/tmpu42vmr33/saved_array_masks/mask_471.png'}, {'image': '/tmp/tmpu42vmr33/saved_array_images/image_370.png', 'label': '/tmp/tmpu42vmr33/saved_array_masks/mask_370.png'}, {'image': '/tmp/tmpu42vmr33/saved_array_images/image_140.png', 'label': '/tmp/tmpu42vmr33/saved_array_masks/mask_140.png'}, {'image': '/tmp/tmpu42vmr33/saved_array_images/image_529.png', 'label': '/tmp/tmpu42vmr33/saved_array_masks/mask_529.png'}, {'image': '/tmp/tmpu42vmr33/saved_array_images/image_381.png', 'label': '/tmp/tmpu42vmr33/saved_array_masks/mask_381.png'}, {'image': '/tmp/tmpu42vmr33/saved_array_images/image_177.png', 'label': '/tmp/tmpu42vmr33/saved_array_masks/mask_177.png'}, {'image': '/tmp/tmpu42vmr33/saved_array_images/image_299.png', 'label': '/tmp/tmpu42vmr33/saved_array_masks/mask_299.png'}, {'image': '/tmp/tmpu42vmr33/saved_array_images/image_655.png', 'label': '/tmp/tmpu42vmr33/saved_array_masks/mask_655.png'}, {'image': '/tmp/tmpu42vmr33/saved_array_images/image_213.png', 'label': '/tmp/tmpu42vmr33/saved_array_masks/mask_213.png'}, {'image': '/tmp/tmpu42vmr33/saved_array_images/image_101.png', 'label': '/tmp/tmpu42vmr33/saved_array_masks/mask_101.png'}, {'image': '/tmp/tmpu42vmr33/saved_array_images/image_306.png', 'label': '/tmp/tmpu42vmr33/saved_array_masks/mask_306.png'}, {'image': '/tmp/tmpu42vmr33/saved_array_images/image_98.png', 'label': '/tmp/tmpu42vmr33/saved_array_masks/mask_98.png'}, {'image': '/tmp/tmpu42vmr33/saved_array_images/image_482.png', 'label': '/tmp/tmpu42vmr33/saved_array_masks/mask_482.png'}, {'image': '/tmp/tmpu42vmr33/saved_array_images/image_17.png', 'label': '/tmp/tmpu42vmr33/saved_array_masks/mask_17.png'}, {'image': '/tmp/tmpu42vmr33/saved_array_images/image_443.png', 'label': '/tmp/tmpu42vmr33/saved_array_masks/mask_443.png'}, {'image': '/tmp/tmpu42vmr33/saved_array_images/image_632.png', 'label': '/tmp/tmpu42vmr33/saved_array_masks/mask_632.png'}, {'image': '/tmp/tmpu42vmr33/saved_array_images/image_402.png', 'label': '/tmp/tmpu42vmr33/saved_array_masks/mask_402.png'}, {'image': '/tmp/tmpu42vmr33/saved_array_images/image_414.png', 'label': '/tmp/tmpu42vmr33/saved_array_masks/mask_414.png'}, {'image': '/tmp/tmpu42vmr33/saved_array_images/image_50.png', 'label': '/tmp/tmpu42vmr33/saved_array_masks/mask_50.png'}, {'image': '/tmp/tmpu42vmr33/saved_array_images/image_6.png', 'label': '/tmp/tmpu42vmr33/saved_array_masks/mask_6.png'}, {'image': '/tmp/tmpu42vmr33/saved_array_images/image_307.png', 'label': '/tmp/tmpu42vmr33/saved_array_masks/mask_307.png'}, {'image': '/tmp/tmpu42vmr33/saved_array_images/image_411.png', 'label': '/tmp/tmpu42vmr33/saved_array_masks/mask_411.png'}, {'image': '/tmp/tmpu42vmr33/saved_array_images/image_398.png', 'label': '/tmp/tmpu42vmr33/saved_array_masks/mask_398.png'}, {'image': '/tmp/tmpu42vmr33/saved_array_images/image_51.png', 'label': '/tmp/tmpu42vmr33/saved_array_masks/mask_51.png'}, {'image': '/tmp/tmpu42vmr33/saved_array_images/image_626.png', 'label': '/tmp/tmpu42vmr33/saved_array_masks/mask_626.png'}, {'image': '/tmp/tmpu42vmr33/saved_array_images/image_532.png', 'label': '/tmp/tmpu42vmr33/saved_array_masks/mask_532.png'}, {'image': '/tmp/tmpu42vmr33/saved_array_images/image_74.png', 'label': '/tmp/tmpu42vmr33/saved_array_masks/mask_74.png'}, {'image': '/tmp/tmpu42vmr33/saved_array_images/image_372.png', 'label': '/tmp/tmpu42vmr33/saved_array_masks/mask_372.png'}, {'image': '/tmp/tmpu42vmr33/saved_array_images/image_440.png', 'label': '/tmp/tmpu42vmr33/saved_array_masks/mask_440.png'}, {'image': '/tmp/tmpu42vmr33/saved_array_images/image_170.png', 'label': '/tmp/tmpu42vmr33/saved_array_masks/mask_170.png'}, {'image': '/tmp/tmpu42vmr33/saved_array_images/image_42.png', 'label': '/tmp/tmpu42vmr33/saved_array_masks/mask_42.png'}, {'image': '/tmp/tmpu42vmr33/saved_array_images/image_488.png', 'label': '/tmp/tmpu42vmr33/saved_array_masks/mask_488.png'}, {'image': '/tmp/tmpu42vmr33/saved_array_images/image_589.png', 'label': '/tmp/tmpu42vmr33/saved_array_masks/mask_589.png'}, {'image': '/tmp/tmpu42vmr33/saved_array_images/image_225.png', 'label': '/tmp/tmpu42vmr33/saved_array_masks/mask_225.png'}, {'image': '/tmp/tmpu42vmr33/saved_array_images/image_141.png', 'label': '/tmp/tmpu42vmr33/saved_array_masks/mask_141.png'}, {'image': '/tmp/tmpu42vmr33/saved_array_images/image_8.png', 'label': '/tmp/tmpu42vmr33/saved_array_masks/mask_8.png'}, {'image': '/tmp/tmpu42vmr33/saved_array_images/image_102.png', 'label': '/tmp/tmpu42vmr33/saved_array_masks/mask_102.png'}, {'image': '/tmp/tmpu42vmr33/saved_array_images/image_169.png', 'label': '/tmp/tmpu42vmr33/saved_array_masks/mask_169.png'}, {'image': '/tmp/tmpu42vmr33/saved_array_images/image_435.png', 'label': '/tmp/tmpu42vmr33/saved_array_masks/mask_435.png'}, {'image': '/tmp/tmpu42vmr33/saved_array_images/image_260.png', 'label': '/tmp/tmpu42vmr33/saved_array_masks/mask_260.png'}, {'image': '/tmp/tmpu42vmr33/saved_array_images/image_244.png', 'label': '/tmp/tmpu42vmr33/saved_array_masks/mask_244.png'}, {'image': '/tmp/tmpu42vmr33/saved_array_images/image_640.png', 'label': '/tmp/tmpu42vmr33/saved_array_masks/mask_640.png'}, {'image': '/tmp/tmpu42vmr33/saved_array_images/image_542.png', 'label': '/tmp/tmpu42vmr33/saved_array_masks/mask_542.png'}, {'image': '/tmp/tmpu42vmr33/saved_array_images/image_514.png', 'label': '/tmp/tmpu42vmr33/saved_array_masks/mask_514.png'}, {'image': '/tmp/tmpu42vmr33/saved_array_images/image_441.png', 'label': '/tmp/tmpu42vmr33/saved_array_masks/mask_441.png'}, {'image': '/tmp/tmpu42vmr33/saved_array_images/image_606.png', 'label': '/tmp/tmpu42vmr33/saved_array_masks/mask_606.png'}, {'image': '/tmp/tmpu42vmr33/saved_array_images/image_420.png', 'label': '/tmp/tmpu42vmr33/saved_array_masks/mask_420.png'}, {'image': '/tmp/tmpu42vmr33/saved_array_images/image_176.png', 'label': '/tmp/tmpu42vmr33/saved_array_masks/mask_176.png'}, {'image': '/tmp/tmpu42vmr33/saved_array_images/image_419.png', 'label': '/tmp/tmpu42vmr33/saved_array_masks/mask_419.png'}, {'image': '/tmp/tmpu42vmr33/saved_array_images/image_388.png', 'label': '/tmp/tmpu42vmr33/saved_array_masks/mask_388.png'}, {'image': '/tmp/tmpu42vmr33/saved_array_images/image_95.png', 'label': '/tmp/tmpu42vmr33/saved_array_masks/mask_95.png'}, {'image': '/tmp/tmpu42vmr33/saved_array_images/image_274.png', 'label': '/tmp/tmpu42vmr33/saved_array_masks/mask_274.png'}, {'image': '/tmp/tmpu42vmr33/saved_array_images/image_302.png', 'label': '/tmp/tmpu42vmr33/saved_array_masks/mask_302.png'}, {'image': '/tmp/tmpu42vmr33/saved_array_images/image_90.png', 'label': '/tmp/tmpu42vmr33/saved_array_masks/mask_90.png'}, {'image': '/tmp/tmpu42vmr33/saved_array_images/image_5.png', 'label': '/tmp/tmpu42vmr33/saved_array_masks/mask_5.png'}, {'image': '/tmp/tmpu42vmr33/saved_array_images/image_657.png', 'label': '/tmp/tmpu42vmr33/saved_array_masks/mask_657.png'}, {'image': '/tmp/tmpu42vmr33/saved_array_images/image_295.png', 'label': '/tmp/tmpu42vmr33/saved_array_masks/mask_295.png'}, {'image': '/tmp/tmpu42vmr33/saved_array_images/image_216.png', 'label': '/tmp/tmpu42vmr33/saved_array_masks/mask_216.png'}, {'image': '/tmp/tmpu42vmr33/saved_array_images/image_106.png', 'label': '/tmp/tmpu42vmr33/saved_array_masks/mask_106.png'}, {'image': '/tmp/tmpu42vmr33/saved_array_images/image_208.png', 'label': '/tmp/tmpu42vmr33/saved_array_masks/mask_208.png'}, {'image': '/tmp/tmpu42vmr33/saved_array_images/image_162.png', 'label': '/tmp/tmpu42vmr33/saved_array_masks/mask_162.png'}, {'image': '/tmp/tmpu42vmr33/saved_array_images/image_148.png', 'label': '/tmp/tmpu42vmr33/saved_array_masks/mask_148.png'}, {'image': '/tmp/tmpu42vmr33/saved_array_images/image_373.png', 'label': '/tmp/tmpu42vmr33/saved_array_masks/mask_373.png'}, {'image': '/tmp/tmpu42vmr33/saved_array_images/image_666.png', 'label': '/tmp/tmpu42vmr33/saved_array_masks/mask_666.png'}, {'image': '/tmp/tmpu42vmr33/saved_array_images/image_531.png', 'label': '/tmp/tmpu42vmr33/saved_array_masks/mask_531.png'}, {'image': '/tmp/tmpu42vmr33/saved_array_images/image_348.png', 'label': '/tmp/tmpu42vmr33/saved_array_masks/mask_348.png'}, {'image': '/tmp/tmpu42vmr33/saved_array_images/image_123.png', 'label': '/tmp/tmpu42vmr33/saved_array_masks/mask_123.png'}, {'image': '/tmp/tmpu42vmr33/saved_array_images/image_595.png', 'label': '/tmp/tmpu42vmr33/saved_array_masks/mask_595.png'}, {'image': '/tmp/tmpu42vmr33/saved_array_images/image_308.png', 'label': '/tmp/tmpu42vmr33/saved_array_masks/mask_308.png'}, {'image': '/tmp/tmpu42vmr33/saved_array_images/image_568.png', 'label': '/tmp/tmpu42vmr33/saved_array_masks/mask_568.png'}, {'image': '/tmp/tmpu42vmr33/saved_array_images/image_273.png', 'label': '/tmp/tmpu42vmr33/saved_array_masks/mask_273.png'}, {'image': '/tmp/tmpu42vmr33/saved_array_images/image_27.png', 'label': '/tmp/tmpu42vmr33/saved_array_masks/mask_27.png'}, {'image': '/tmp/tmpu42vmr33/saved_array_images/image_321.png', 'label': '/tmp/tmpu42vmr33/saved_array_masks/mask_321.png'}, {'image': '/tmp/tmpu42vmr33/saved_array_images/image_567.png', 'label': '/tmp/tmpu42vmr33/saved_array_masks/mask_567.png'}, {'image': '/tmp/tmpu42vmr33/saved_array_images/image_499.png', 'label': '/tmp/tmpu42vmr33/saved_array_masks/mask_499.png'}, {'image': '/tmp/tmpu42vmr33/saved_array_images/image_355.png', 'label': '/tmp/tmpu42vmr33/saved_array_masks/mask_355.png'}, {'image': '/tmp/tmpu42vmr33/saved_array_images/image_653.png', 'label': '/tmp/tmpu42vmr33/saved_array_masks/mask_653.png'}, {'image': '/tmp/tmpu42vmr33/saved_array_images/image_240.png', 'label': '/tmp/tmpu42vmr33/saved_array_masks/mask_240.png'}, {'image': '/tmp/tmpu42vmr33/saved_array_images/image_535.png', 'label': '/tmp/tmpu42vmr33/saved_array_masks/mask_535.png'}, {'image': '/tmp/tmpu42vmr33/saved_array_images/image_103.png', 'label': '/tmp/tmpu42vmr33/saved_array_masks/mask_103.png'}, {'image': '/tmp/tmpu42vmr33/saved_array_images/image_619.png', 'label': '/tmp/tmpu42vmr33/saved_array_masks/mask_619.png'}, {'image': '/tmp/tmpu42vmr33/saved_array_images/image_31.png', 'label': '/tmp/tmpu42vmr33/saved_array_masks/mask_31.png'}, {'image': '/tmp/tmpu42vmr33/saved_array_images/image_283.png', 'label': '/tmp/tmpu42vmr33/saved_array_masks/mask_283.png'}, {'image': '/tmp/tmpu42vmr33/saved_array_images/image_66.png', 'label': '/tmp/tmpu42vmr33/saved_array_masks/mask_66.png'}, {'image': '/tmp/tmpu42vmr33/saved_array_images/image_345.png', 'label': '/tmp/tmpu42vmr33/saved_array_masks/mask_345.png'}, {'image': '/tmp/tmpu42vmr33/saved_array_images/image_371.png', 'label': '/tmp/tmpu42vmr33/saved_array_masks/mask_371.png'}, {'image': '/tmp/tmpu42vmr33/saved_array_images/image_246.png', 'label': '/tmp/tmpu42vmr33/saved_array_masks/mask_246.png'}, {'image': '/tmp/tmpu42vmr33/saved_array_images/image_220.png', 'label': '/tmp/tmpu42vmr33/saved_array_masks/mask_220.png'}, {'image': '/tmp/tmpu42vmr33/saved_array_images/image_477.png', 'label': '/tmp/tmpu42vmr33/saved_array_masks/mask_477.png'}, {'image': '/tmp/tmpu42vmr33/saved_array_images/image_551.png', 'label': '/tmp/tmpu42vmr33/saved_array_masks/mask_551.png'}]\n",
            "HE data: [{'image': '/tmp/tmpu42vmr33/saved_HE_images/image_0.png', 'label': '/tmp/tmpu42vmr33/saved_HE_masks/mask_0.png'}]\n"
          ]
        }
      ]
    },
    {
      "cell_type": "code",
      "source": [
        "set_determinism(seed=833877392)"
      ],
      "metadata": {
        "id": "bCWAqwwXIvmP"
      },
      "execution_count": null,
      "outputs": []
    },
    {
      "cell_type": "code",
      "source": [
        "#Adapted from Monai tutorial by our TA and https://github.com/Project-MONAI/tutorials/blob/main/2d_segmentation/torch/unet_training_dict.py\n",
        "\n",
        "train_transforms = Compose( #takes a list\n",
        "    [\n",
        "        # Load image and label data\n",
        "        LoadImaged(keys=[\"image\", \"label\"]),\n",
        "        # Ensure channel is the first dimension (pytorch requirement) channel = feature / kernel\n",
        "        EnsureChannelFirstd(keys=[\"image\", \"label\"]),\n",
        "        # Scale intensity values of the image within the specified range\n",
        "        ScaleIntensityRanged(\n",
        "            keys=[\"image\",\"label\"],\n",
        "            a_min=0,\n",
        "            a_max=255,\n",
        "            b_min=0.0,\n",
        "            b_max=1.0,\n",
        "            clip=True,\n",
        "        ),\n",
        "        RandRotate90d(keys=[\"image\", \"label\"], prob=0.5, spatial_axes=[0, 1]), #rotate randomly\n",
        "        # Randomly crop regions with positive and negative labels to create training samples\n",
        "        RandCropByPosNegLabeld(\n",
        "            keys=[\"image\", \"label\"],\n",
        "            label_key=\"label\",\n",
        "            spatial_size=(96, 96),\n",
        "            pos=1,\n",
        "            neg=1,\n",
        "            num_samples=4,  # we'll get 4 random 96,96,96 image from the full 512x512 image\n",
        "            image_key=\"image\",\n",
        "            image_threshold=0,\n",
        "        ),\n",
        "\n",
        ")\n",
        "\n",
        "val_transforms = Compose(\n",
        "    [\n",
        "        # Load image and label data\n",
        "        LoadImaged(keys=[\"image\", \"label\"]),\n",
        "        # Ensure channel is the first dimension\n",
        "        EnsureChannelFirstd(keys=[\"image\", \"label\"]),\n",
        "        # Scale intensity values of the image within the specified range\n",
        "        ScaleIntensityRanged(\n",
        "            keys=[\"image\"],\n",
        "            a_min=0,\n",
        "            a_max=255,\n",
        "            b_min=0.0,\n",
        "            b_max=1.0,\n",
        "            clip=True,\n",
        "        ),\n",
        "\n",
        "\n",
        "    ]\n",
        ")\n"
      ],
      "metadata": {
        "id": "ktcf25yVZO_b"
      },
      "execution_count": null,
      "outputs": []
    },
    {
      "cell_type": "code",
      "source": [
        "check_ds = Dataset(data=val_files, transform=val_transforms)\n",
        "\n",
        "# Create a DataLoader with a batch size of 1 for visualization purposes\n",
        "check_loader = DataLoader(check_ds, batch_size=1)\n",
        "\n",
        "# Retrieve the first batch of data from the DataLoader\n",
        "check_data = first(check_loader)\n",
        "\n",
        "# Extract the image and label from the data\n",
        "image, label = (check_data[\"image\"][0][0], check_data[\"label\"][0][0])\n",
        "\n",
        "# Print the shapes of the image and label\n",
        "print(f\"image shape: {image.shape}, label shape: {label.shape}\")\n",
        "\n",
        "# Plot a slice of the images and labels (slice along the third dimension at index 80)\n",
        "plt.figure(\"check\", (12, 6))\n",
        "plt.subplot(1, 2, 1)\n",
        "plt.title(\"image\")\n",
        "plt.imshow(image, cmap=\"gray\")\n",
        "plt.subplot(1, 2, 2)\n",
        "plt.title(\"label\")\n",
        "plt.imshow(label,cmap=\"gray\")\n",
        "plt.show()"
      ],
      "metadata": {
        "id": "p7HySnwoZPd_"
      },
      "execution_count": null,
      "outputs": []
    },
    {
      "cell_type": "code",
      "source": [
        "train_ds = CacheDataset(data=train_files, transform=train_transforms, cache_rate=1.0, num_workers=4)\n",
        "\n",
        "# Alternatively, for experimentation with the regular Dataset, uncomment the line below:\n",
        "# train_ds = Dataset(data=train_files, transform=train_transforms)\n",
        "\n",
        "# Use DataLoader to load training data in batches of size 2\n",
        "# Shuffle the data for randomization and apply RandCropByPosNegLabeld for data augmentation\n",
        "# The resulting batch size will be 2 x 4, generating 2 batches of 4 images each for network training\n",
        "#num-workers shouldnt be too high, sometimes it crashes.\n",
        "train_loader = DataLoader(train_ds, batch_size=2, shuffle=True, num_workers=4)\n",
        "\n",
        "# Create a CacheDataset for validation with accelerated caching\n",
        "# Similar to training, CacheRate is set to 1.0, caching the entire dataset for optimal performance\n",
        "# NumWorkers enables multi-threading during caching for faster data loading\n",
        "val_ds = CacheDataset(data=val_files, transform=val_transforms, cache_rate=1.0, num_workers=4)\n",
        "\n",
        "# Alternatively, for experimentation with the regular Dataset, uncomment the line below:\n",
        "# val_ds = Dataset(data=val_files, transform=val_transforms)\n",
        "\n",
        "# Use DataLoader to load validation data in batches of size 1\n",
        "# NumWorkers enables multi-threading during data loading for faster processing\n",
        "val_loader = DataLoader(val_ds, batch_size=1, num_workers=4)\n",
        "\n"
      ],
      "metadata": {
        "colab": {
          "base_uri": "https://localhost:8080/"
        },
        "id": "s_xjDAbYZPwa",
        "outputId": "0f3ce3ed-3a1a-4073-a23e-169fa84da3cd"
      },
      "execution_count": null,
      "outputs": [
        {
          "output_type": "stream",
          "name": "stderr",
          "text": [
            "Loading dataset: 100%|██████████| 423/423 [00:16<00:00, 25.14it/s]\n",
            "/usr/local/lib/python3.10/dist-packages/torch/utils/data/dataloader.py:558: UserWarning: This DataLoader will create 4 worker processes in total. Our suggested max number of worker in current system is 2, which is smaller than what this DataLoader is going to create. Please be aware that excessive worker creation might get DataLoader running slow or even freeze, lower the worker number to avoid potential slowness/freeze if necessary.\n",
            "  warnings.warn(_create_warning_msg(\n",
            "Loading dataset: 100%|██████████| 180/180 [00:08<00:00, 20.38it/s]\n"
          ]
        }
      ]
    },
    {
      "cell_type": "code",
      "source": [
        "#device = torch.device(\"cuda:0\")\n",
        "device = torch.device(\"cpu\")\n",
        "for batch_data in train_loader:  # move this do gpu\n",
        "    inputs, labels = (\n",
        "        batch_data[\"image\"].to(device),\n",
        "        batch_data[\"label\"].to(device),\n",
        "    )\n",
        "    print(f\"Input image shape: {inputs.shape}\") # shouldn B x C X H X W X D\n",
        "    print(f\"Input label shape: {labels.shape}\")\n",
        "    break"
      ],
      "metadata": {
        "colab": {
          "base_uri": "https://localhost:8080/"
        },
        "id": "7Xf1qBD3bNNH",
        "outputId": "edce5ebe-a186-4cab-9bc4-7b4280b0c98d"
      },
      "execution_count": null,
      "outputs": [
        {
          "output_type": "stream",
          "name": "stderr",
          "text": [
            "/usr/local/lib/python3.10/dist-packages/torch/utils/data/dataloader.py:558: UserWarning: This DataLoader will create 4 worker processes in total. Our suggested max number of worker in current system is 2, which is smaller than what this DataLoader is going to create. Please be aware that excessive worker creation might get DataLoader running slow or even freeze, lower the worker number to avoid potential slowness/freeze if necessary.\n",
            "  warnings.warn(_create_warning_msg(\n"
          ]
        },
        {
          "output_type": "stream",
          "name": "stdout",
          "text": [
            "Input image shape: torch.Size([8, 3, 96, 96])\n",
            "Input label shape: torch.Size([8, 3, 96, 96])\n"
          ]
        }
      ]
    },
    {
      "cell_type": "code",
      "source": [
        "model = UNet(\n",
        "    spatial_dims=2, #3D data\n",
        "    in_channels=3,\n",
        "    out_channels=3, #foreground and background\n",
        "    channels=(4,8,16,32,64), #different convolution kernel size - different features by each kernel /filter. This is a hyperparameter.  try and compare bunch of different ones to determine these numbers\n",
        "    strides=(2,2,2,2),\n",
        "    num_res_units=2,\n",
        "    norm=Norm.BATCH,\n",
        ").to(device) #to gpu\n",
        "print(model)"
      ],
      "metadata": {
        "colab": {
          "base_uri": "https://localhost:8080/"
        },
        "id": "0sWoacnccC9r",
        "outputId": "66d57069-7221-4ccb-d6ec-8235f4942c1b"
      },
      "execution_count": null,
      "outputs": [
        {
          "output_type": "stream",
          "name": "stdout",
          "text": [
            "UNet(\n",
            "  (model): Sequential(\n",
            "    (0): ResidualUnit(\n",
            "      (conv): Sequential(\n",
            "        (unit0): Convolution(\n",
            "          (conv): Conv2d(3, 4, kernel_size=(3, 3), stride=(2, 2), padding=(1, 1))\n",
            "          (adn): ADN(\n",
            "            (N): BatchNorm2d(4, eps=1e-05, momentum=0.1, affine=True, track_running_stats=True)\n",
            "            (D): Dropout(p=0.0, inplace=False)\n",
            "            (A): PReLU(num_parameters=1)\n",
            "          )\n",
            "        )\n",
            "        (unit1): Convolution(\n",
            "          (conv): Conv2d(4, 4, kernel_size=(3, 3), stride=(1, 1), padding=(1, 1))\n",
            "          (adn): ADN(\n",
            "            (N): BatchNorm2d(4, eps=1e-05, momentum=0.1, affine=True, track_running_stats=True)\n",
            "            (D): Dropout(p=0.0, inplace=False)\n",
            "            (A): PReLU(num_parameters=1)\n",
            "          )\n",
            "        )\n",
            "      )\n",
            "      (residual): Conv2d(3, 4, kernel_size=(3, 3), stride=(2, 2), padding=(1, 1))\n",
            "    )\n",
            "    (1): SkipConnection(\n",
            "      (submodule): Sequential(\n",
            "        (0): ResidualUnit(\n",
            "          (conv): Sequential(\n",
            "            (unit0): Convolution(\n",
            "              (conv): Conv2d(4, 8, kernel_size=(3, 3), stride=(2, 2), padding=(1, 1))\n",
            "              (adn): ADN(\n",
            "                (N): BatchNorm2d(8, eps=1e-05, momentum=0.1, affine=True, track_running_stats=True)\n",
            "                (D): Dropout(p=0.0, inplace=False)\n",
            "                (A): PReLU(num_parameters=1)\n",
            "              )\n",
            "            )\n",
            "            (unit1): Convolution(\n",
            "              (conv): Conv2d(8, 8, kernel_size=(3, 3), stride=(1, 1), padding=(1, 1))\n",
            "              (adn): ADN(\n",
            "                (N): BatchNorm2d(8, eps=1e-05, momentum=0.1, affine=True, track_running_stats=True)\n",
            "                (D): Dropout(p=0.0, inplace=False)\n",
            "                (A): PReLU(num_parameters=1)\n",
            "              )\n",
            "            )\n",
            "          )\n",
            "          (residual): Conv2d(4, 8, kernel_size=(3, 3), stride=(2, 2), padding=(1, 1))\n",
            "        )\n",
            "        (1): SkipConnection(\n",
            "          (submodule): Sequential(\n",
            "            (0): ResidualUnit(\n",
            "              (conv): Sequential(\n",
            "                (unit0): Convolution(\n",
            "                  (conv): Conv2d(8, 16, kernel_size=(3, 3), stride=(2, 2), padding=(1, 1))\n",
            "                  (adn): ADN(\n",
            "                    (N): BatchNorm2d(16, eps=1e-05, momentum=0.1, affine=True, track_running_stats=True)\n",
            "                    (D): Dropout(p=0.0, inplace=False)\n",
            "                    (A): PReLU(num_parameters=1)\n",
            "                  )\n",
            "                )\n",
            "                (unit1): Convolution(\n",
            "                  (conv): Conv2d(16, 16, kernel_size=(3, 3), stride=(1, 1), padding=(1, 1))\n",
            "                  (adn): ADN(\n",
            "                    (N): BatchNorm2d(16, eps=1e-05, momentum=0.1, affine=True, track_running_stats=True)\n",
            "                    (D): Dropout(p=0.0, inplace=False)\n",
            "                    (A): PReLU(num_parameters=1)\n",
            "                  )\n",
            "                )\n",
            "              )\n",
            "              (residual): Conv2d(8, 16, kernel_size=(3, 3), stride=(2, 2), padding=(1, 1))\n",
            "            )\n",
            "            (1): SkipConnection(\n",
            "              (submodule): Sequential(\n",
            "                (0): ResidualUnit(\n",
            "                  (conv): Sequential(\n",
            "                    (unit0): Convolution(\n",
            "                      (conv): Conv2d(16, 32, kernel_size=(3, 3), stride=(2, 2), padding=(1, 1))\n",
            "                      (adn): ADN(\n",
            "                        (N): BatchNorm2d(32, eps=1e-05, momentum=0.1, affine=True, track_running_stats=True)\n",
            "                        (D): Dropout(p=0.0, inplace=False)\n",
            "                        (A): PReLU(num_parameters=1)\n",
            "                      )\n",
            "                    )\n",
            "                    (unit1): Convolution(\n",
            "                      (conv): Conv2d(32, 32, kernel_size=(3, 3), stride=(1, 1), padding=(1, 1))\n",
            "                      (adn): ADN(\n",
            "                        (N): BatchNorm2d(32, eps=1e-05, momentum=0.1, affine=True, track_running_stats=True)\n",
            "                        (D): Dropout(p=0.0, inplace=False)\n",
            "                        (A): PReLU(num_parameters=1)\n",
            "                      )\n",
            "                    )\n",
            "                  )\n",
            "                  (residual): Conv2d(16, 32, kernel_size=(3, 3), stride=(2, 2), padding=(1, 1))\n",
            "                )\n",
            "                (1): SkipConnection(\n",
            "                  (submodule): ResidualUnit(\n",
            "                    (conv): Sequential(\n",
            "                      (unit0): Convolution(\n",
            "                        (conv): Conv2d(32, 64, kernel_size=(3, 3), stride=(1, 1), padding=(1, 1))\n",
            "                        (adn): ADN(\n",
            "                          (N): BatchNorm2d(64, eps=1e-05, momentum=0.1, affine=True, track_running_stats=True)\n",
            "                          (D): Dropout(p=0.0, inplace=False)\n",
            "                          (A): PReLU(num_parameters=1)\n",
            "                        )\n",
            "                      )\n",
            "                      (unit1): Convolution(\n",
            "                        (conv): Conv2d(64, 64, kernel_size=(3, 3), stride=(1, 1), padding=(1, 1))\n",
            "                        (adn): ADN(\n",
            "                          (N): BatchNorm2d(64, eps=1e-05, momentum=0.1, affine=True, track_running_stats=True)\n",
            "                          (D): Dropout(p=0.0, inplace=False)\n",
            "                          (A): PReLU(num_parameters=1)\n",
            "                        )\n",
            "                      )\n",
            "                    )\n",
            "                    (residual): Conv2d(32, 64, kernel_size=(1, 1), stride=(1, 1))\n",
            "                  )\n",
            "                )\n",
            "                (2): Sequential(\n",
            "                  (0): Convolution(\n",
            "                    (conv): ConvTranspose2d(96, 16, kernel_size=(3, 3), stride=(2, 2), padding=(1, 1), output_padding=(1, 1))\n",
            "                    (adn): ADN(\n",
            "                      (N): BatchNorm2d(16, eps=1e-05, momentum=0.1, affine=True, track_running_stats=True)\n",
            "                      (D): Dropout(p=0.0, inplace=False)\n",
            "                      (A): PReLU(num_parameters=1)\n",
            "                    )\n",
            "                  )\n",
            "                  (1): ResidualUnit(\n",
            "                    (conv): Sequential(\n",
            "                      (unit0): Convolution(\n",
            "                        (conv): Conv2d(16, 16, kernel_size=(3, 3), stride=(1, 1), padding=(1, 1))\n",
            "                        (adn): ADN(\n",
            "                          (N): BatchNorm2d(16, eps=1e-05, momentum=0.1, affine=True, track_running_stats=True)\n",
            "                          (D): Dropout(p=0.0, inplace=False)\n",
            "                          (A): PReLU(num_parameters=1)\n",
            "                        )\n",
            "                      )\n",
            "                    )\n",
            "                    (residual): Identity()\n",
            "                  )\n",
            "                )\n",
            "              )\n",
            "            )\n",
            "            (2): Sequential(\n",
            "              (0): Convolution(\n",
            "                (conv): ConvTranspose2d(32, 8, kernel_size=(3, 3), stride=(2, 2), padding=(1, 1), output_padding=(1, 1))\n",
            "                (adn): ADN(\n",
            "                  (N): BatchNorm2d(8, eps=1e-05, momentum=0.1, affine=True, track_running_stats=True)\n",
            "                  (D): Dropout(p=0.0, inplace=False)\n",
            "                  (A): PReLU(num_parameters=1)\n",
            "                )\n",
            "              )\n",
            "              (1): ResidualUnit(\n",
            "                (conv): Sequential(\n",
            "                  (unit0): Convolution(\n",
            "                    (conv): Conv2d(8, 8, kernel_size=(3, 3), stride=(1, 1), padding=(1, 1))\n",
            "                    (adn): ADN(\n",
            "                      (N): BatchNorm2d(8, eps=1e-05, momentum=0.1, affine=True, track_running_stats=True)\n",
            "                      (D): Dropout(p=0.0, inplace=False)\n",
            "                      (A): PReLU(num_parameters=1)\n",
            "                    )\n",
            "                  )\n",
            "                )\n",
            "                (residual): Identity()\n",
            "              )\n",
            "            )\n",
            "          )\n",
            "        )\n",
            "        (2): Sequential(\n",
            "          (0): Convolution(\n",
            "            (conv): ConvTranspose2d(16, 4, kernel_size=(3, 3), stride=(2, 2), padding=(1, 1), output_padding=(1, 1))\n",
            "            (adn): ADN(\n",
            "              (N): BatchNorm2d(4, eps=1e-05, momentum=0.1, affine=True, track_running_stats=True)\n",
            "              (D): Dropout(p=0.0, inplace=False)\n",
            "              (A): PReLU(num_parameters=1)\n",
            "            )\n",
            "          )\n",
            "          (1): ResidualUnit(\n",
            "            (conv): Sequential(\n",
            "              (unit0): Convolution(\n",
            "                (conv): Conv2d(4, 4, kernel_size=(3, 3), stride=(1, 1), padding=(1, 1))\n",
            "                (adn): ADN(\n",
            "                  (N): BatchNorm2d(4, eps=1e-05, momentum=0.1, affine=True, track_running_stats=True)\n",
            "                  (D): Dropout(p=0.0, inplace=False)\n",
            "                  (A): PReLU(num_parameters=1)\n",
            "                )\n",
            "              )\n",
            "            )\n",
            "            (residual): Identity()\n",
            "          )\n",
            "        )\n",
            "      )\n",
            "    )\n",
            "    (2): Sequential(\n",
            "      (0): Convolution(\n",
            "        (conv): ConvTranspose2d(8, 3, kernel_size=(3, 3), stride=(2, 2), padding=(1, 1), output_padding=(1, 1))\n",
            "        (adn): ADN(\n",
            "          (N): BatchNorm2d(3, eps=1e-05, momentum=0.1, affine=True, track_running_stats=True)\n",
            "          (D): Dropout(p=0.0, inplace=False)\n",
            "          (A): PReLU(num_parameters=1)\n",
            "        )\n",
            "      )\n",
            "      (1): ResidualUnit(\n",
            "        (conv): Sequential(\n",
            "          (unit0): Convolution(\n",
            "            (conv): Conv2d(3, 3, kernel_size=(3, 3), stride=(1, 1), padding=(1, 1))\n",
            "          )\n",
            "        )\n",
            "        (residual): Identity()\n",
            "      )\n",
            "    )\n",
            "  )\n",
            ")\n"
          ]
        }
      ]
    },
    {
      "cell_type": "code",
      "source": [],
      "metadata": {
        "id": "1n97mZk0dwfh"
      },
      "execution_count": null,
      "outputs": []
    },
    {
      "cell_type": "code",
      "source": [
        "#loss_function = DiceLoss(to_onehot_y=False, softmax=True)  #softmax turns output to probability\n",
        "# apply forward\n",
        "#outputs = model(inputs)\n",
        "#print(f\"outputs outputs shape: {outputs.shape}\")\n",
        "#loss = loss_function(outputs, labels)\n",
        "#print(f\"train_loss: {loss.item():.4f}\")"
      ],
      "metadata": {
        "id": "4DVpPDd9cHW7"
      },
      "execution_count": null,
      "outputs": []
    },
    {
      "cell_type": "code",
      "source": [],
      "metadata": {
        "id": "NBYxVWDncH3-"
      },
      "execution_count": null,
      "outputs": []
    },
    {
      "cell_type": "code",
      "execution_count": null,
      "metadata": {
        "id": "3-uICkpTSjUv"
      },
      "outputs": [],
      "source": [
        "loss_function = DiceLoss(to_onehot_y=False, softmax=True)\n",
        "optimizer = torch.optim.Adam(model.parameters(), 1e-2)  # 1e-4 is a hyperparameter - learning rate.\n",
        "# AdamW is an alternative optimizer. # Or gradient descent\n",
        "dice_metric = DiceMetric(include_background=False, reduction=\"mean\")"
      ]
    },
    {
      "cell_type": "code",
      "source": [
        "max_epochs = 25\n",
        "\n",
        "val_interval = 2 # do 2 epoch training then 1 validation\n",
        "\n",
        "# Initialize variables for tracking best metric and associated epoch\n",
        "best_metric = -1\n",
        "best_metric_epoch = -1\n",
        "\n",
        "# Lists to store epoch loss values and metric values\n",
        "epoch_loss_values = []\n",
        "metric_values = []\n",
        "\n",
        "# Define post-processing transforms for predictions and labels\n",
        "#post_pred = Compose([AsDiscrete(argmax=True, to_onehot=3)])\n",
        "post_pred = Compose([AsDiscrete(argmax=True)])\n",
        "#post_label = Compose([AsDiscrete(to_onehot=1)])  # as discrete makes it a binary\n",
        "post_label = Compose([AsDiscrete()])\n",
        "# Iterate over epochs\n",
        "for epoch in range(max_epochs):\n",
        "    print(\"-\" * 10)\n",
        "    print(f\"epoch {epoch + 1}/{max_epochs}\")\n",
        "\n",
        "    # Set model to training mode\n",
        "    model.train()  # dropout would work in this mode.\n",
        "    epoch_loss = 0\n",
        "    step = 0\n",
        "\n",
        "    # Iterate over batches in the training loader\n",
        "    for batch_data in train_loader:\n",
        "        step += 1\n",
        "        # Move inputs and labels to GPU\n",
        "        inputs, labels = (\n",
        "            batch_data[\"image\"].to(device),\n",
        "            batch_data[\"label\"].to(device),\n",
        "        )\n",
        "        # Zero the gradients\n",
        "        optimizer.zero_grad()\n",
        "        # Forward pass\n",
        "        outputs = model(inputs)\n",
        "        # Compute loss\n",
        "        loss = loss_function(outputs, labels)\n",
        "        # Backward pass\n",
        "        loss.backward()\n",
        "        # Update weights\n",
        "        optimizer.step()\n",
        "        # Update epoch loss\n",
        "        epoch_loss += loss.item()\n",
        "        print(f\"{step}/{len(train_ds) // train_loader.batch_size}, \"\n",
        "              f\"train_loss: {loss.item():.4f}\")\n",
        "\n",
        "    # Calculate average epoch loss\n",
        "    epoch_loss /= step\n",
        "    epoch_loss_values.append(epoch_loss)\n",
        "    print(f\"epoch {epoch + 1} average loss: {epoch_loss:.4f}\")\n",
        "\n",
        "    # Perform validation at specified intervals\n",
        "    if (epoch + 1) % val_interval == 0:\n",
        "        model.eval()\n",
        "        with torch.no_grad():\n",
        "            for val_data in val_loader:\n",
        "                val_inputs, val_labels = (\n",
        "                    val_data[\"image\"].to(device),\n",
        "                    val_data[\"label\"].to(device),\n",
        "                )\n",
        "                # Define ROI size and sliding window batch size\n",
        "                roi_size = (96,96)\n",
        "                sw_batch_size = 2\n",
        "                # Perform sliding window inference\n",
        "                val_outputs = sliding_window_inference(val_inputs, roi_size, sw_batch_size, model)\n",
        "                val_outputs = [post_pred(i) for i in decollate_batch(val_outputs)]\n",
        "                val_labels = [post_label(i) for i in decollate_batch(val_labels)]  # comment out\n",
        "                # Compute dice metric for current iteration\n",
        "                dice_metric(y_pred=val_outputs, y=val_labels)  # now we pass on to the metric instead of loss function\n",
        "\n",
        "            # Aggregate the final mean dice result\n",
        "            metric = dice_metric.aggregate().item()\n",
        "            # Reset the status for the next validation round\n",
        "            dice_metric.reset()\n",
        "\n",
        "            # Append metric value to list\n",
        "            metric_values.append(metric)\n",
        "\n",
        "            # Check if current metric is better than best metric\n",
        "            if metric > best_metric:\n",
        "                best_metric = metric\n",
        "                best_metric_epoch = epoch + 1\n",
        "                # Save the model with the best metric\n",
        "                torch.save(model.state_dict(), os.path.join(root_dir, \"best_metric_model.pth\"))  # saves weights of the model\n",
        "                print(\"saved new best metric model\")\n",
        "\n",
        "            # Print current and best metric values\n",
        "            print(\n",
        "                f\"current epoch: {epoch + 1} current mean dice: {metric:.4f}\"\n",
        "                f\"\\nbest mean dice: {best_metric:.4f} \"\n",
        "                f\"at epoch: {best_metric_epoch}\"\n",
        "            )  # syntax error"
      ],
      "metadata": {
        "id": "vLudZZCjz4_p"
      },
      "execution_count": null,
      "outputs": []
    },
    {
      "cell_type": "code",
      "source": [
        "# Define plot parameters\n",
        "plt.figure(figsize=(14, 6))\n",
        "\n",
        "# Plot Epoch Average Loss\n",
        "plt.subplot(1, 2, 1)\n",
        "plt.title(\"Epoch Average Loss\")\n",
        "plt.xlabel(\"Epoch\")\n",
        "plt.ylabel(\"Loss\")\n",
        "x_loss = [i + 1 for i in range(len(epoch_loss_values))]\n",
        "y_loss = epoch_loss_values\n",
        "plt.plot(x_loss, y_loss, color='blue', label='Training Loss')\n",
        "plt.legend()\n",
        "\n",
        "# Plot Validation Mean Dice\n",
        "plt.subplot(1, 2, 2)\n",
        "plt.title(\"Validation Mean Dice\")\n",
        "plt.xlabel(\"Epoch\")\n",
        "plt.ylabel(\"Mean Dice\")\n",
        "x_dice = [val_interval * (i + 1) for i in range(len(metric_values))]\n",
        "y_dice = metric_values\n",
        "plt.plot(x_dice, y_dice, color='green', label='Validation Dice')\n",
        "plt.legend()\n",
        "\n",
        "plt.tight_layout()\n",
        "plt.show()"
      ],
      "metadata": {
        "id": "3oj619Ahz9Lj"
      },
      "execution_count": null,
      "outputs": []
    },
    {
      "cell_type": "code",
      "source": [
        "# Load the best saved model parameters\n",
        "model.load_state_dict(torch.load(os.path.join(root_dir, \"best_metric_model.pth\")))\n",
        "\n",
        "# Set the model to evaluation mode\n",
        "model.eval()\n",
        "\n",
        "# Perform inference on validation data using the best model\n",
        "with torch.no_grad():\n",
        "    for i, val_data in enumerate(val_loader):\n",
        "        roi_size = (512,512)\n",
        "        sw_batch_size = 2\n",
        "        val_outputs = sliding_window_inference(val_data[\"image\"].to(device),\n",
        "                                               roi_size, sw_batch_size, model)\n",
        "\n",
        "        # Plot the slices\n",
        "        plt.figure(\"check\", (18, 6))\n",
        "\n",
        "        # Plot original image\n",
        "        plt.subplot(1, 3, 1)\n",
        "        plt.title(f\"image {i}\")\n",
        "        plt.imshow(val_data[\"image\"][0, 0, :, :], cmap=\"gray\")\n",
        "\n",
        "        # Plot ground truth label\n",
        "        plt.subplot(1, 3, 2)\n",
        "        plt.title(f\"label {i}\")\n",
        "        plt.imshow(val_data[\"label\"][0, 0, :, :])\n",
        "\n",
        "        # Plot model output\n",
        "        plt.subplot(1, 3, 3)\n",
        "        plt.title(f\"output {i}\")\n",
        "        plt.imshow(torch.argmax(val_outputs, dim=1).detach().cpu()[0,:,:])\n",
        "        plt.show()\n",
        "\n",
        "        # Break loop after 3 iterations for visualization\n",
        "        if i == 5:\n",
        "            break"
      ],
      "metadata": {
        "id": "SWpX865kz5mT"
      },
      "execution_count": null,
      "outputs": []
    },
    {
      "cell_type": "markdown",
      "source": [
        "Code below creates a dictionary where each folder is a key and contains the image and the masks that belong to that image"
      ],
      "metadata": {
        "id": "iZEDz_QCYIEL"
      }
    },
    {
      "cell_type": "code",
      "source": [
        "model_dir=\"/content/drive/MyDrive/Colab Notebooks/data-science-bowl-2018/model_output_6/\"   #saving directory"
      ],
      "metadata": {
        "id": "6BhmDnc_fxVX"
      },
      "execution_count": null,
      "outputs": []
    },
    {
      "cell_type": "code",
      "source": [
        "import pandas as pd\n",
        "\n",
        "# Create a sample DataFrame\n",
        "output_data = {'Dice Loss': y_loss, 'Epocs': x_loss}\n",
        "df = pd.DataFrame(output_data)\n",
        "\n",
        "# Concatenate 'col1' and 'col2', split the resulting string, and store it in 'result'\n",
        "#df['result'] = df['col1'].str.cat(df['col2'], sep=\" \").str.split()\n",
        "\n",
        "# Save the DataFrame to a CSV file\n",
        "output_directory = model_dir  # Specify your desired output directory\n",
        "output_filename = 'model_output_training_dice_loss, .csv'\n",
        "df.to_csv(output_directory + output_filename, sep=',', index=False)\n",
        "\n",
        "print(f\"DataFrame saved to {output_directory}{output_filename}\")\n",
        "\n",
        "output_data = {'Mean dice': y_dice, 'Epocs': x_dice}\n",
        "df = pd.DataFrame(output_data)\n",
        "\n",
        "# Concatenate 'col1' and 'col2', split the resulting string, and store it in 'result'\n",
        "#df['result'] = df['col1'].str.cat(df['col2'], sep=\" \").str.split()\n",
        "\n",
        "# Save the DataFrame to a CSV file\n",
        "output_directory = model_dir  # Specify your desired output directory\n",
        "output_filename = 'model_output_training_dice_mean, .csv'\n",
        "df.to_csv(output_directory + output_filename, sep=',', index=False)\n",
        "\n",
        "print(f\"DataFrame saved to {output_directory}{output_filename}\")\n",
        "\n"
      ],
      "metadata": {
        "colab": {
          "base_uri": "https://localhost:8080/"
        },
        "id": "ddyrovubfzQN",
        "outputId": "23d84e83-5a97-40cf-8b80-647da1868084"
      },
      "execution_count": null,
      "outputs": [
        {
          "output_type": "stream",
          "name": "stdout",
          "text": [
            "DataFrame saved to /content/drive/MyDrive/Colab Notebooks/data-science-bowl-2018/model_output_6/model_output_training_dice_loss, .csv\n",
            "DataFrame saved to /content/drive/MyDrive/Colab Notebooks/data-science-bowl-2018/model_output_6/model_output_training_dice_mean, .csv\n"
          ]
        }
      ]
    },
    {
      "cell_type": "code",
      "source": [
        "torch.save(model.state_dict(), os.path.join(model_dir, \"best_metric_model.pth\"))"
      ],
      "metadata": {
        "id": "sxN3fnc3f9fb"
      },
      "execution_count": null,
      "outputs": []
    },
    {
      "cell_type": "code",
      "source": [],
      "metadata": {
        "id": "Zx2uCRCA14Il"
      },
      "execution_count": null,
      "outputs": []
    },
    {
      "cell_type": "markdown",
      "source": [
        "TEST"
      ],
      "metadata": {
        "id": "_PDaYmArtMSs"
      }
    },
    {
      "cell_type": "code",
      "source": [
        "# Define the list of test images\n",
        "# originally we do this on test set, but here for this dataset we don't have labels for test set because it's a challenge dataset\n",
        "# so here the mean dice s\n",
        "# Create test data dictionary\n",
        "\n",
        "test_data = test_locked\n",
        "\n",
        "# Define original test transforms\n",
        "test_org_transforms = val_transforms\n",
        "\n",
        "# Create original test dataset\n",
        "test_org_ds = Dataset(data=test_data, transform=test_org_transforms)\n",
        "\n",
        "# Create data loader for original test dataset\n",
        "test_org_loader = DataLoader(test_org_ds, batch_size=1, num_workers=4)\n",
        "\n",
        "# Define post-processing transforms\n",
        "post_pred = Compose([AsDiscrete(argmax=True)])\n",
        "#post_label = Compose([AsDiscrete(to_onehot=0)])\n",
        "post_label = Compose([AsDiscrete()])\n",
        "# Load the best saved model parameters\n",
        "model.load_state_dict(torch.load(\"/content/drive/MyDrive/Colab Notebooks/data-science-bowl-2018/model_output_6/best_metric_model.pth\"))\n",
        "model.eval()\n",
        "\n",
        "# Evaluate model performance on test set\n",
        "count=0\n",
        "with torch.no_grad():\n",
        "    for test_data in test_org_loader:\n",
        "        test_inputs = test_data[\"image\"].to(device)\n",
        "        test_labels = test_data[\"label\"].to(device)\n",
        "        roi_size = (96,96)\n",
        "        sw_batch_size = 4\n",
        "        # Perform sliding window inference\n",
        "        test_outputs1 = sliding_window_inference(test_inputs, roi_size, sw_batch_size, model)\n",
        "        test_outputs2 = [post_pred(i) for i in decollate_batch(test_outputs1)]\n",
        "        test_labels = [post_label(i) for i in decollate_batch(test_labels)]\n",
        "        # Compute metric for current iteration\n",
        "        dice_metric(y_pred=test_outputs2, y=test_labels)\n",
        "\n",
        "     # Plot the slices   #### uncomment if you want to see an image\n",
        "        #plt.figure(\"check\", (18, 6))\n",
        "\n",
        "        # Plot original image\n",
        "        #plt.subplot(1, 3, 1)\n",
        "        #plt.title(f\"image {i}\")\n",
        "        #plt.imshow(test_data[\"image\"][0, 0, :, :], cmap=\"gray\")\n",
        "\n",
        "        # Plot ground truth label\n",
        "       # plt.subplot(1, 3, 2)\n",
        "        #plt.title(f\"label {i}\")\n",
        "        #plt.imshow(test_data[\"label\"][0, 0, :, :])\n",
        "\n",
        "        # Plot model output\n",
        "        #plt.subplot(1, 3, 3)\n",
        "        #plt.title(f\"output {i}\")\n",
        "        #plt.imshow(torch.argmax(test_outputs1, dim=1).detach().cpu()[0,:,:])\n",
        "        #plt.imshow()\n",
        "        #plt.show(test_outputs1[0,0,:,:])\n",
        "\n",
        "        # Break loop after 3 iterations for visualization\n",
        "        #if i == 5:\n",
        "            #break\n",
        "        count=count+1\n",
        "    # Aggregate the final mean dice result\n",
        "    metric_org = dice_metric.aggregate().item()\n",
        "    # Reset the status for the next validation round\n",
        "    dice_metric.reset()\n",
        "    count\n",
        "\n",
        "# Print the metric on the test set\n",
        "print(\"Metric on Test Set: \", metric_org) # as we used validation data now should be the same as best score\n",
        "print(\"Tested with\", count,\"images\")"
      ],
      "metadata": {
        "id": "quhnWfu8QuzH",
        "colab": {
          "base_uri": "https://localhost:8080/"
        },
        "outputId": "1e592672-0a28-4ae9-e50f-aefbfda8f94f"
      },
      "execution_count": null,
      "outputs": [
        {
          "output_type": "stream",
          "name": "stderr",
          "text": [
            "/usr/local/lib/python3.10/dist-packages/torch/utils/data/dataloader.py:558: UserWarning: This DataLoader will create 4 worker processes in total. Our suggested max number of worker in current system is 2, which is smaller than what this DataLoader is going to create. Please be aware that excessive worker creation might get DataLoader running slow or even freeze, lower the worker number to avoid potential slowness/freeze if necessary.\n",
            "  warnings.warn(_create_warning_msg(\n"
          ]
        },
        {
          "output_type": "stream",
          "name": "stdout",
          "text": [
            "Metric on Test Set:  0.7729658484458923\n",
            "Tested with 67 images\n"
          ]
        }
      ]
    }
  ]
}